{
 "cells": [
  {
   "cell_type": "code",
   "execution_count": 3,
   "metadata": {},
   "outputs": [],
   "source": [
    "\n",
    "class PriorityQueueNode:\n",
    "    def __init__(self,pt,value):\n",
    "        self.pt = pt\n",
    "        self.value = value"
   ]
  },
  {
   "cell_type": "code",
   "execution_count": 29,
   "metadata": {},
   "outputs": [],
   "source": [
    "class PriorityQueue:\n",
    "    def __init__(self):\n",
    "        self.li = []\n",
    "        \n",
    "    def getMin(self):\n",
    "        if len(self.li) == 0:\n",
    "            return None\n",
    "        return self.li[0].value\n",
    "    \n",
    "    def size(self):\n",
    "        return len(self.li)\n",
    "        \n",
    "    def isEmpty(self):\n",
    "        return self.size == 0\n",
    "    \n",
    "    def insert(self,pt,value):\n",
    "        newNode = PriorityQueueNode(pt,value)\n",
    "        self.li.append(newNode)\n",
    "        index = len(self.li) - 1\n",
    "        while index > 0:\n",
    "                pIndex  = (index-1)//2\n",
    "                if self.li[index].pt < self.li[pIndex].pt:\n",
    "                    self.li[index],self.li[pIndex] = self.li[pIndex],self.li[index]\n",
    "                    index = pIndex\n",
    "                else:\n",
    "                    break\n",
    "    \n",
    "    def removeMin(self):\n",
    "        if self.isEmpty():\n",
    "            return None\n",
    "        \n",
    "        ans = self.li[0].value\n",
    "        self.li[0] = self.li[self.size()-1]\n",
    "        self.li.pop()\n",
    "        pIndex = 0\n",
    "        lcIndex = 2*pIndex + 1\n",
    "        rcIndex = 2*pIndex + 2\n",
    "        li = self.li\n",
    "        \n",
    "        while lcIndex <= len(li) - 1:\n",
    "                minIndex = pIndex\n",
    "                if li[lcIndex].pt < li[minIndex].pt:\n",
    "                    minIndex = lcIndex\n",
    "                if rcIndex <= len(li)-1 and li[rcIndex].pt < li[minIndex].pt:\n",
    "                    minIndex = rcIndex\n",
    "                    \n",
    "                if minIndex == pIndex:\n",
    "                    break\n",
    "                    \n",
    "                li[pIndex],li[minIndex] = li[minIndex],li[pIndex]\n",
    "                pIndex = minIndex\n",
    "                lcIndex = 2*minIndex + 1\n",
    "                rcIndex = 2*minIndex + 2\n",
    "                \n",
    "        return ans     \n",
    "                "
   ]
  },
  {
   "cell_type": "code",
   "execution_count": 30,
   "metadata": {},
   "outputs": [
    {
     "name": "stdout",
     "output_type": "stream",
     "text": [
      "4\n",
      "5\n",
      "10\n",
      "19\n",
      "\n",
      "4\n",
      "\n",
      "4\n",
      "5\n",
      "10\n",
      "12\n",
      "14\n",
      "16\n",
      "19\n",
      "20\n"
     ]
    }
   ],
   "source": [
    "pq = PriorityQueue()\n",
    "pq.insert(10,10)\n",
    "pq.insert(5,5)\n",
    "pq.insert(19,19)\n",
    "pq.insert(4,4)\n",
    "\n",
    "for i in range(pq.size()):\n",
    "    print(pq.removeMin())\n",
    "    \n",
    "print()    \n",
    "\n",
    "pq.insert(10,10)\n",
    "pq.insert(5,5)\n",
    "pq.insert(19,19)\n",
    "pq.insert(4,4)\n",
    "pq.insert(12,12)\n",
    "pq.insert(14,14)\n",
    "pq.insert(16,16)\n",
    "pq.insert(20,20)\n",
    "\n",
    "print(pq.getMin())\n",
    "print()\n",
    "\n",
    "for i in range(pq.size()):\n",
    "    print(pq.removeMin())\n",
    "    \n",
    "    \n"
   ]
  },
  {
   "cell_type": "code",
   "execution_count": null,
   "metadata": {},
   "outputs": [],
   "source": []
  }
 ],
 "metadata": {
  "kernelspec": {
   "display_name": "Python 3",
   "language": "python",
   "name": "python3"
  },
  "language_info": {
   "codemirror_mode": {
    "name": "ipython",
    "version": 3
   },
   "file_extension": ".py",
   "mimetype": "text/x-python",
   "name": "python",
   "nbconvert_exporter": "python",
   "pygments_lexer": "ipython3",
   "version": "3.8.3"
  }
 },
 "nbformat": 4,
 "nbformat_minor": 4
}
