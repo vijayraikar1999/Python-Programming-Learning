{
 "cells": [
  {
   "cell_type": "code",
   "execution_count": 1,
   "metadata": {},
   "outputs": [],
   "source": [
    "class BinaryTreeNode:\n",
    "    def __init__(self,data):\n",
    "        self.data = data\n",
    "        self.left = None\n",
    "        self.right = None\n",
    "        "
   ]
  },
  {
   "cell_type": "code",
   "execution_count": 2,
   "metadata": {},
   "outputs": [],
   "source": [
    "btn1 = BinaryTreeNode(1)\n",
    "btn2 = BinaryTreeNode(2)\n",
    "btn3 = BinaryTreeNode(3)\n",
    "\n",
    "btn1.left = btn2\n",
    "btn1.right = btn3\n",
    "\n",
    "btn4 = BinaryTreeNode(4)\n",
    "btn5 = BinaryTreeNode(5)\n",
    "\n",
    "btn2.left = btn4\n",
    "btn2.right = btn5"
   ]
  },
  {
   "cell_type": "code",
   "execution_count": 3,
   "metadata": {},
   "outputs": [
    {
     "name": "stdout",
     "output_type": "stream",
     "text": [
      "1\n",
      "2\n"
     ]
    }
   ],
   "source": [
    "print(btn1.data)\n",
    "print(btn1.left.data)"
   ]
  },
  {
   "cell_type": "code",
   "execution_count": 4,
   "metadata": {},
   "outputs": [],
   "source": [
    "def printTree(root):\n",
    "    if root is None:\n",
    "        return\n",
    "    print(root.data,end = \":\")\n",
    "    if root.left is not None:\n",
    "        print(\"L\",root.left.data,end = \",\")\n",
    "    if root.right is not None:\n",
    "        print(\"R\",root.right.data,end = \"\")\n",
    "    print()    \n",
    "    printTree(root.left)\n",
    "    printTree(root.right)\n",
    "    \n",
    "    "
   ]
  },
  {
   "cell_type": "code",
   "execution_count": 5,
   "metadata": {},
   "outputs": [
    {
     "name": "stdout",
     "output_type": "stream",
     "text": [
      "1:L 2,R 3\n",
      "2:L 4,R 5\n",
      "4:\n",
      "5:\n",
      "3:\n"
     ]
    }
   ],
   "source": [
    "printTree(btn1)"
   ]
  },
  {
   "cell_type": "code",
   "execution_count": null,
   "metadata": {},
   "outputs": [],
   "source": []
  },
  {
   "cell_type": "code",
   "execution_count": 6,
   "metadata": {},
   "outputs": [],
   "source": [
    "def treeInput():\n",
    "    rootdata = input()\n",
    "    if rootdata == \"None\":\n",
    "        return None\n",
    "    root = BinaryTreeNode(int(rootdata))\n",
    "    leftTree = treeInput()\n",
    "    rightTree = treeInput()\n",
    "    root.left = leftTree\n",
    "    root.right = rightTree\n",
    "    return root\n",
    "\n",
    "def numNodes(root):\n",
    "    if root is None:\n",
    "        return 0\n",
    "    return 1 + numNodes(root.left) + numNodes(root.right)\n"
   ]
  },
  {
   "cell_type": "code",
   "execution_count": 14,
   "metadata": {},
   "outputs": [
    {
     "name": "stdout",
     "output_type": "stream",
     "text": [
      "1\n",
      "2\n",
      "None\n",
      "None\n",
      "3\n",
      "4\n",
      "6\n",
      "None\n",
      "None\n",
      "None\n",
      "5\n",
      "None\n",
      "None\n",
      "1:L 2,R 3\n",
      "2:\n",
      "3:L 4,R 5\n",
      "4:L 6,\n",
      "6:\n",
      "5:\n",
      "Number of nodes in tree: \n",
      "6\n"
     ]
    }
   ],
   "source": [
    "root = treeInput()\n",
    "printTree(root)\n",
    "print(\"Number of nodes in tree: \")\n",
    "print(numNodes(root))"
   ]
  },
  {
   "cell_type": "markdown",
   "metadata": {},
   "source": [
    "#### Pre Order Travelsal of Binary Tree"
   ]
  },
  {
   "cell_type": "code",
   "execution_count": 7,
   "metadata": {},
   "outputs": [],
   "source": [
    "def preOrderTravelsal(root):\n",
    "    if root is None:\n",
    "        return\n",
    "    print(root.data)\n",
    "    preOrderTravelsal(root.left)\n",
    "    preOrderTravelsal(root.right)\n",
    "    \n",
    "    \n",
    "    "
   ]
  },
  {
   "cell_type": "code",
   "execution_count": 16,
   "metadata": {},
   "outputs": [
    {
     "name": "stdout",
     "output_type": "stream",
     "text": [
      "1\n",
      "2\n",
      "4\n",
      "None\n",
      "None\n",
      "5\n",
      "None\n",
      "None\n",
      "3\n",
      "6\n",
      "None\n",
      "None\n",
      "7\n",
      "None\n",
      "None\n",
      "1\n",
      "2\n",
      "4\n",
      "5\n",
      "3\n",
      "6\n",
      "7\n"
     ]
    }
   ],
   "source": [
    "root = treeInput()\n",
    "preOrderTravelsal(root)"
   ]
  },
  {
   "cell_type": "markdown",
   "metadata": {},
   "source": [
    "#### Post Order Travelsal of Binary Tree"
   ]
  },
  {
   "cell_type": "code",
   "execution_count": 17,
   "metadata": {},
   "outputs": [
    {
     "name": "stdout",
     "output_type": "stream",
     "text": [
      "4\n",
      "5\n",
      "2\n",
      "6\n",
      "7\n",
      "3\n",
      "1\n"
     ]
    }
   ],
   "source": [
    "def postOrderTravelsal(root):\n",
    "    if root is None:\n",
    "        return\n",
    "    postOrderTravelsal(root.left)\n",
    "    postOrderTravelsal(root.right)\n",
    "    print(root.data)\n",
    "    \n",
    "postOrderTravelsal(root)    "
   ]
  },
  {
   "cell_type": "markdown",
   "metadata": {},
   "source": [
    "#### In order Travelsal of Binary Tree"
   ]
  },
  {
   "cell_type": "code",
   "execution_count": 18,
   "metadata": {},
   "outputs": [
    {
     "name": "stdout",
     "output_type": "stream",
     "text": [
      "4\n",
      "2\n",
      "5\n",
      "1\n",
      "6\n",
      "3\n",
      "7\n"
     ]
    }
   ],
   "source": [
    "def inOrderTravelsal(root):\n",
    "    if root is None:\n",
    "        return\n",
    "    inOrderTravelsal(root.left)\n",
    "    print(root.data)\n",
    "    inOrderTravelsal(root.right)\n",
    "    \n",
    "inOrderTravelsal(root)    "
   ]
  },
  {
   "cell_type": "code",
   "execution_count": 19,
   "metadata": {},
   "outputs": [],
   "source": [
    "def findMax(root):\n",
    "    if root is None:\n",
    "        return -1\n",
    "    ans1 = findMax(root.left)\n",
    "    ans2 = findMax(root.right)\n",
    "    return max(ans1,ans2,root.data)\n",
    "\n"
   ]
  },
  {
   "cell_type": "code",
   "execution_count": 20,
   "metadata": {},
   "outputs": [
    {
     "name": "stdout",
     "output_type": "stream",
     "text": [
      "7\n"
     ]
    }
   ],
   "source": [
    "print(findMax(root))"
   ]
  },
  {
   "cell_type": "markdown",
   "metadata": {},
   "source": [
    "#### Height of Binary Tree"
   ]
  },
  {
   "cell_type": "code",
   "execution_count": 21,
   "metadata": {},
   "outputs": [],
   "source": [
    "def findHeightTree(root):\n",
    "    if root is None:\n",
    "        return 0\n",
    "    ans1 = findHeightTree(root.left)\n",
    "    ans2 = findHeightTree(root.right)\n",
    "    return 1 + max(ans1,ans2)"
   ]
  },
  {
   "cell_type": "code",
   "execution_count": 22,
   "metadata": {},
   "outputs": [
    {
     "name": "stdout",
     "output_type": "stream",
     "text": [
      "3\n"
     ]
    }
   ],
   "source": [
    "print(findHeightTree(root))"
   ]
  },
  {
   "cell_type": "markdown",
   "metadata": {},
   "source": [
    "#### Find number of Leaf Nodes in Binary Tree"
   ]
  },
  {
   "cell_type": "code",
   "execution_count": 23,
   "metadata": {},
   "outputs": [],
   "source": [
    "def numLeafs(root):\n",
    "    if root is None:\n",
    "        return 0\n",
    "    if (root.left is None) and (root.right is None):\n",
    "        return 1\n",
    "    return numLeafs(root.left) + numLeafs(root.right)\n",
    "\n",
    "def printLeafNodes(root):\n",
    "    if root is None:\n",
    "        return\n",
    "    if root.left is None and root.right is None:\n",
    "        print(root.data)\n",
    "    printLeafNodes(root.left)\n",
    "    printLeafNodes(root.right)\n",
    "    "
   ]
  },
  {
   "cell_type": "code",
   "execution_count": 24,
   "metadata": {},
   "outputs": [
    {
     "name": "stdout",
     "output_type": "stream",
     "text": [
      "4\n"
     ]
    }
   ],
   "source": [
    "print(numLeafs(root))"
   ]
  },
  {
   "cell_type": "code",
   "execution_count": 25,
   "metadata": {},
   "outputs": [
    {
     "name": "stdout",
     "output_type": "stream",
     "text": [
      "1\n",
      "2\n",
      "4\n",
      "6\n",
      "None\n",
      "None\n",
      "7\n",
      "None\n",
      "None\n",
      "5\n",
      "None\n",
      "None\n",
      "3\n",
      "12\n",
      "None\n",
      "None\n",
      "13\n",
      "None\n",
      "None\n",
      "1:L 2,R 3\n",
      "2:L 4,R 5\n",
      "4:L 6,R 7\n",
      "6:\n",
      "7:\n",
      "5:\n",
      "3:L 12,R 13\n",
      "12:\n",
      "13:\n"
     ]
    }
   ],
   "source": [
    "root1 = treeInput()\n",
    "printTree(root1)"
   ]
  },
  {
   "cell_type": "code",
   "execution_count": 26,
   "metadata": {},
   "outputs": [
    {
     "name": "stdout",
     "output_type": "stream",
     "text": [
      "9\n"
     ]
    }
   ],
   "source": [
    "print(numNodes(root1))"
   ]
  },
  {
   "cell_type": "code",
   "execution_count": 27,
   "metadata": {},
   "outputs": [
    {
     "name": "stdout",
     "output_type": "stream",
     "text": [
      "5\n"
     ]
    }
   ],
   "source": [
    "print(numLeafs(root1))"
   ]
  },
  {
   "cell_type": "code",
   "execution_count": 28,
   "metadata": {},
   "outputs": [
    {
     "name": "stdout",
     "output_type": "stream",
     "text": [
      "6\n",
      "7\n",
      "5\n",
      "12\n",
      "13\n"
     ]
    }
   ],
   "source": [
    "printLeafNodes(root1)"
   ]
  },
  {
   "cell_type": "markdown",
   "metadata": {},
   "source": [
    "#### Print all Nodes at Depth K"
   ]
  },
  {
   "cell_type": "code",
   "execution_count": 31,
   "metadata": {},
   "outputs": [],
   "source": [
    "def printNodesAtDepthK(root,k):\n",
    "    if root is None:\n",
    "        return \n",
    "    if k == 0:\n",
    "        print(root.data)\n",
    "        return\n",
    "    printNodesAtDepthK(root.left,k-1)\n",
    "    printNodesAtDepthK(root.right,k-1)\n",
    "    return\n"
   ]
  },
  {
   "cell_type": "code",
   "execution_count": 41,
   "metadata": {},
   "outputs": [],
   "source": [
    "def printNodesAtDepthKV2(root,k,d = 0):\n",
    "    if root is None:\n",
    "        return\n",
    "    if k == d:\n",
    "        print(root.data)\n",
    "        return\n",
    "    printNodesAtDepthKV2(root.left,k,d+1)\n",
    "    printNodesAtDepthKV2(root.right,k,d+1)\n",
    "    return"
   ]
  },
  {
   "cell_type": "code",
   "execution_count": 42,
   "metadata": {},
   "outputs": [
    {
     "name": "stdout",
     "output_type": "stream",
     "text": [
      "4\n",
      "5\n",
      "12\n",
      "13\n"
     ]
    }
   ],
   "source": [
    "printNodesAtDepthK(root1,2)"
   ]
  },
  {
   "cell_type": "code",
   "execution_count": 43,
   "metadata": {},
   "outputs": [
    {
     "name": "stdout",
     "output_type": "stream",
     "text": [
      "4\n",
      "5\n",
      "12\n",
      "13\n"
     ]
    }
   ],
   "source": [
    "printNodesAtDepthKV2(root1,2)"
   ]
  },
  {
   "cell_type": "code",
   "execution_count": 44,
   "metadata": {},
   "outputs": [
    {
     "name": "stdout",
     "output_type": "stream",
     "text": [
      "1\n",
      "2\n",
      "4\n",
      "None\n",
      "None\n",
      "5\n",
      "8\n",
      "None\n",
      "None\n",
      "9\n",
      "None\n",
      "None\n",
      "3\n",
      "6\n",
      "None\n",
      "None\n",
      "7\n",
      "None\n",
      "None\n",
      "1:L 2,R 3\n",
      "2:L 4,R 5\n",
      "4:\n",
      "5:L 8,R 9\n",
      "8:\n",
      "9:\n",
      "3:L 6,R 7\n",
      "6:\n",
      "7:\n"
     ]
    }
   ],
   "source": [
    "root2 = treeInput()\n",
    "printTree(root2)"
   ]
  },
  {
   "cell_type": "code",
   "execution_count": 58,
   "metadata": {},
   "outputs": [
    {
     "name": "stdout",
     "output_type": "stream",
     "text": [
      "1\n",
      "2\n",
      "4\n",
      "None\n",
      "None\n",
      "5\n",
      "8\n",
      "None\n",
      "None\n",
      "9\n",
      "None\n",
      "None\n",
      "3\n",
      "6\n",
      "None\n",
      "None\n",
      "7\n",
      "None\n",
      "None\n",
      "1:L 2,R 3\n",
      "2:L 4,R 5\n",
      "4:\n",
      "5:L 8,R 9\n",
      "8:\n",
      "9:\n",
      "3:L 6,R 7\n",
      "6:\n",
      "7:\n"
     ]
    }
   ],
   "source": [
    "root3 = treeInput()\n",
    "printTree(root3)"
   ]
  },
  {
   "cell_type": "code",
   "execution_count": 59,
   "metadata": {},
   "outputs": [],
   "source": [
    "def removeLeafNodes(root):\n",
    "    if root is None:\n",
    "        return root\n",
    "    if (root.left is None) and (root.right is None):\n",
    "        print(root.data)\n",
    "        return None\n",
    "    root.left = removeLeafNodes(root.left)\n",
    "    root.right = removeLeafNodes(root.right)\n",
    "    return root"
   ]
  },
  {
   "cell_type": "code",
   "execution_count": 60,
   "metadata": {},
   "outputs": [
    {
     "name": "stdout",
     "output_type": "stream",
     "text": [
      "4\n",
      "8\n",
      "9\n",
      "6\n",
      "7\n",
      "\n",
      "1:L 2,R 3\n",
      "2:R 5\n",
      "5:\n",
      "3:\n"
     ]
    }
   ],
   "source": [
    "root3 = removeLeafNodes(root3)\n",
    "print()\n",
    "printTree(root3)"
   ]
  },
  {
   "cell_type": "markdown",
   "metadata": {},
   "source": [
    "#### Check if a Tree is Balance or not"
   ]
  },
  {
   "cell_type": "code",
   "execution_count": 97,
   "metadata": {},
   "outputs": [],
   "source": [
    "def HeightOfTree(root):\n",
    "    if root is None:\n",
    "        return 0\n",
    "    return 1 + max(HeightOfTree(root.left),HeightOfTree(root.right))\n"
   ]
  },
  {
   "cell_type": "code",
   "execution_count": 98,
   "metadata": {},
   "outputs": [],
   "source": [
    "def checkBalanceTree(root):\n",
    "    if root is None:\n",
    "        return True\n",
    "    leftH = HeightOfTree(root.left)\n",
    "    rightH = HeightOfTree(root.right)\n",
    "    if abs(leftH-rightH) > 1 :\n",
    "        return False\n",
    "    \n",
    "    isBalancedLeft = checkBalanceTree(root.left)\n",
    "    isBalancedRight = checkBalanceTree(root.right)\n",
    "    if isBalancedLeft and isBalancedRight:\n",
    "        return True\n",
    "    else:\n",
    "        return False\n",
    "    "
   ]
  },
  {
   "cell_type": "code",
   "execution_count": 100,
   "metadata": {},
   "outputs": [
    {
     "name": "stdout",
     "output_type": "stream",
     "text": [
      "1\n",
      "2\n",
      "4\n",
      "8\n",
      "10\n",
      "None\n",
      "None\n",
      "None\n",
      "None\n",
      "5\n",
      "None\n",
      "9\n",
      "None\n",
      "None\n",
      "3\n",
      "6\n",
      "None\n",
      "None\n",
      "7\n",
      "None\n",
      "8\n",
      "None\n",
      "None\n",
      "1:L 2,R 3\n",
      "2:L 4,R 5\n",
      "4:L 8,\n",
      "8:L 10,\n",
      "10:\n",
      "5:R 9\n",
      "9:\n",
      "3:L 6,R 7\n",
      "6:\n",
      "7:R 8\n",
      "8:\n",
      "False\n",
      "5\n"
     ]
    }
   ],
   "source": [
    "root4 = treeInput()\n",
    "printTree(root4)\n",
    "Ans = checkBalanceTree(root4)\n",
    "print(Ans)\n",
    "print(HeightOfTree(root4))\n",
    "# 1\n",
    "# 2\n",
    "# 4\n",
    "# 8\n",
    "# 10\n",
    "# None\n",
    "# None\n",
    "# None\n",
    "# None\n",
    "# 5\n",
    "# None\n",
    "# 9\n",
    "# None\n",
    "# None\n",
    "# 3\n",
    "# 6\n",
    "# None\n",
    "# None\n",
    "# 7\n",
    "# None\n",
    "# 8\n",
    "# None\n",
    "# None\n",
    "# 1:L 2,R 3\n",
    "# 2:L 4,R 5\n",
    "# 4:L 8,\n",
    "# 8:L 10,\n",
    "# 10:\n",
    "# 5:R 9\n",
    "# 9:\n",
    "# 3:L 6,R 7\n",
    "# 6:\n",
    "# 7:R 8\n",
    "# 8:\n",
    "# False"
   ]
  },
  {
   "cell_type": "code",
   "execution_count": 101,
   "metadata": {},
   "outputs": [],
   "source": [
    "def checkBalanceTreeV2(root):\n",
    "    if root is None:\n",
    "        return 0,True\n",
    "    flag = False\n",
    "    ans1 = checkBalanceTreeV2(root.left)\n",
    "    ans2 = checkBalanceTreeV2(root.right)\n",
    "    if ans1[1] and  ans2[1] :\n",
    "        flag = True\n",
    "    h1 = ans1[0]\n",
    "    h2 = ans2[0]\n",
    "    h = 1 + max(h1,h1)\n",
    "    d = abs(h1-h2)\n",
    "    if d > 1 :\n",
    "        flag = False\n",
    "    return h,flag    \n",
    "    "
   ]
  },
  {
   "cell_type": "code",
   "execution_count": 102,
   "metadata": {
    "scrolled": true
   },
   "outputs": [],
   "source": [
    "Ans = checkBalanceTreeV2(root4)"
   ]
  },
  {
   "cell_type": "code",
   "execution_count": 103,
   "metadata": {},
   "outputs": [
    {
     "name": "stdout",
     "output_type": "stream",
     "text": [
      "(5, False)\n"
     ]
    }
   ],
   "source": [
    "print(Ans)"
   ]
  },
  {
   "cell_type": "code",
   "execution_count": 104,
   "metadata": {},
   "outputs": [
    {
     "name": "stdout",
     "output_type": "stream",
     "text": [
      "5\n"
     ]
    }
   ],
   "source": [
    "print(HeightOfTree(root4))"
   ]
  },
  {
   "cell_type": "markdown",
   "metadata": {},
   "source": [
    "#### Take Input to the Tree Levelwise"
   ]
  },
  {
   "cell_type": "code",
   "execution_count": 16,
   "metadata": {},
   "outputs": [],
   "source": [
    "import queue\n",
    "def takeInputLevelWise():\n",
    "    rootdata = input()\n",
    "    if rootdata == \"None\":\n",
    "        return None\n",
    "    q = queue.Queue()\n",
    "    root = BinaryTreeNode(int(rootdata))\n",
    "    curr = root\n",
    "    q.put(root)\n",
    "    while not q.empty():\n",
    "        curr = q.get()\n",
    "        left = input()\n",
    "        right = input()\n",
    "        if left != \"None\":\n",
    "            leftNode = BinaryTreeNode(int(left))\n",
    "            curr.left = leftNode\n",
    "            q.put(leftNode)\n",
    "        else:\n",
    "            curr.left = None\n",
    "            \n",
    "        if right != \"None\":\n",
    "            rightNode = BinaryTreeNode(int(right))\n",
    "            curr.right = rightNode\n",
    "            q.put(rightNode)\n",
    "        else:\n",
    "            curr.right = None\n",
    "    return root\n"
   ]
  },
  {
   "cell_type": "code",
   "execution_count": 17,
   "metadata": {},
   "outputs": [
    {
     "name": "stdout",
     "output_type": "stream",
     "text": [
      "1\n",
      "2\n",
      "3\n",
      "4\n",
      "5\n",
      "6\n",
      "7\n",
      "8\n",
      "9\n",
      "10\n",
      "11\n",
      "12\n",
      "13\n",
      "14\n",
      "15\n",
      "None\n",
      "None\n",
      "None\n",
      "None\n",
      "None\n",
      "None\n",
      "None\n",
      "None\n",
      "None\n",
      "None\n",
      "None\n",
      "None\n",
      "None\n",
      "None\n",
      "None\n",
      "None\n"
     ]
    }
   ],
   "source": [
    "root5 = takeInputLevelWise()"
   ]
  },
  {
   "cell_type": "code",
   "execution_count": 18,
   "metadata": {},
   "outputs": [
    {
     "name": "stdout",
     "output_type": "stream",
     "text": [
      "1:L 2,R 3\n",
      "2:L 4,R 5\n",
      "4:L 8,R 9\n",
      "8:\n",
      "9:\n",
      "5:L 10,R 11\n",
      "10:\n",
      "11:\n",
      "3:L 6,R 7\n",
      "6:L 12,R 13\n",
      "12:\n",
      "13:\n",
      "7:L 14,R 15\n",
      "14:\n",
      "15:\n"
     ]
    }
   ],
   "source": [
    "printTree(root5)"
   ]
  },
  {
   "cell_type": "code",
   "execution_count": 19,
   "metadata": {},
   "outputs": [],
   "source": [
    "def printTreeLevelWise(root):\n",
    "    if root is None:\n",
    "        return None\n",
    "    q = queue.Queue()\n",
    "    q.put(root)\n",
    "    while not q.empty():\n",
    "        curr = q.get()\n",
    "        \n",
    "        print(curr.data,\":\",end = \"\")\n",
    "        if curr.left is not None:\n",
    "            print(\"L \" + str(curr.left.data) + \" , \",end = \"\")\n",
    "            q.put(curr.left)\n",
    "        if curr.right is not None:\n",
    "            print(\"R \" + str(curr.right.data) ,end = \"\")\n",
    "            q.put(curr.right)\n",
    "            \n",
    "        print()\n",
    "        "
   ]
  },
  {
   "cell_type": "code",
   "execution_count": 20,
   "metadata": {},
   "outputs": [
    {
     "name": "stdout",
     "output_type": "stream",
     "text": [
      "1 :L 2 , R 3\n",
      "2 :L 4 , R 5\n",
      "3 :L 6 , R 7\n",
      "4 :L 8 , R 9\n",
      "5 :L 10 , R 11\n",
      "6 :L 12 , R 13\n",
      "7 :L 14 , R 15\n",
      "8 :\n",
      "9 :\n",
      "10 :\n",
      "11 :\n",
      "12 :\n",
      "13 :\n",
      "14 :\n",
      "15 :\n"
     ]
    }
   ],
   "source": [
    "printTreeLevelWise(root5)"
   ]
  },
  {
   "cell_type": "code",
   "execution_count": 22,
   "metadata": {},
   "outputs": [
    {
     "name": "stdout",
     "output_type": "stream",
     "text": [
      "1\n",
      "2\n",
      "3\n",
      "4\n",
      "5\n",
      "None\n",
      "7\n",
      "None\n",
      "None\n",
      "None\n",
      "None\n",
      "8\n",
      "9\n",
      "10\n",
      "None\n",
      "None\n",
      "11\n",
      "None\n",
      "None\n",
      "None\n",
      "None\n"
     ]
    }
   ],
   "source": [
    "root6 = takeInputLevelWise()"
   ]
  },
  {
   "cell_type": "code",
   "execution_count": 23,
   "metadata": {},
   "outputs": [
    {
     "name": "stdout",
     "output_type": "stream",
     "text": [
      "1:L 2,R 3\n",
      "2:L 4,R 5\n",
      "4:\n",
      "5:\n",
      "3:R 7\n",
      "7:L 8,R 9\n",
      "8:L 10,\n",
      "10:\n",
      "9:R 11\n",
      "11:\n"
     ]
    }
   ],
   "source": [
    "printTree(root6)"
   ]
  },
  {
   "cell_type": "code",
   "execution_count": 40,
   "metadata": {},
   "outputs": [],
   "source": [
    "def createTreeFromInPre(In,Pre):\n",
    "    if len(In) == 0:\n",
    "        return None\n",
    "    if len(In) == 1:\n",
    "        newNode = BinaryTreeNode(In[0])\n",
    "        return newNode\n",
    "    root = BinaryTreeNode(Pre[0])\n",
    "    rootIndex = In.index(Pre[0])\n",
    "    leftL = len(In[0:rootIndex])\n",
    "    \n",
    "    root.left = createTreeFromInPre(In[0:rootIndex],Pre[1:leftL+1])\n",
    "    root.right = createTreeFromInPre(In[rootIndex+1:],Pre[leftL+1:])\n",
    "    return root    \n"
   ]
  },
  {
   "cell_type": "code",
   "execution_count": 42,
   "metadata": {},
   "outputs": [
    {
     "name": "stdout",
     "output_type": "stream",
     "text": [
      "Enter In Order travelsal of the Tree: \n",
      "4 2 5 1 6 3 7\n",
      "1 2 4 5 3 6 7\n"
     ]
    }
   ],
   "source": [
    "print(\"Enter In Order travelsal of the Tree: \")\n",
    "In = list(map(int,input().split()))\n",
    "Pre = list(map(int,input().split()))"
   ]
  },
  {
   "cell_type": "code",
   "execution_count": 45,
   "metadata": {
    "scrolled": false
   },
   "outputs": [],
   "source": [
    "root7 = createTreeFromInPre(In,Pre)"
   ]
  },
  {
   "cell_type": "code",
   "execution_count": 46,
   "metadata": {},
   "outputs": [
    {
     "name": "stdout",
     "output_type": "stream",
     "text": [
      "1:L 2,R 3\n",
      "2:L 4,R 5\n",
      "4:\n",
      "5:\n",
      "3:L 6,R 7\n",
      "6:\n",
      "7:\n"
     ]
    }
   ],
   "source": [
    "printTree(root7)"
   ]
  },
  {
   "cell_type": "code",
   "execution_count": null,
   "metadata": {},
   "outputs": [],
   "source": []
  }
 ],
 "metadata": {
  "kernelspec": {
   "display_name": "Python 3",
   "language": "python",
   "name": "python3"
  },
  "language_info": {
   "codemirror_mode": {
    "name": "ipython",
    "version": 3
   },
   "file_extension": ".py",
   "mimetype": "text/x-python",
   "name": "python",
   "nbconvert_exporter": "python",
   "pygments_lexer": "ipython3",
   "version": "3.8.3"
  }
 },
 "nbformat": 4,
 "nbformat_minor": 4
}
