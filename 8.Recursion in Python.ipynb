{
 "cells": [
  {
   "cell_type": "code",
   "execution_count": 1,
   "metadata": {},
   "outputs": [],
   "source": [
    "def fact(n):\n",
    "    if n==0:\n",
    "        return 1\n",
    "    return n*fact(n-1)"
   ]
  },
  {
   "cell_type": "code",
   "execution_count": 2,
   "metadata": {},
   "outputs": [],
   "source": [
    "def fact1(n):\n",
    "    if n==0:\n",
    "        return 1\n",
    "    smallOutput = fact1(n-1)\n",
    "    return n*smallOutput\n"
   ]
  },
  {
   "cell_type": "code",
   "execution_count": 3,
   "metadata": {},
   "outputs": [],
   "source": [
    "def sum_n(n):\n",
    "    if n==0:\n",
    "        return 0\n",
    "    smallOutput = sum_n(n-1)\n",
    "    output = smallOutput + n\n",
    "    return output\n"
   ]
  },
  {
   "cell_type": "code",
   "execution_count": 18,
   "metadata": {},
   "outputs": [],
   "source": [
    "def print1_to_n(n):\n",
    "    if n == 0:\n",
    "        return \n",
    "    print1_to_n(n-1)\n",
    "    print(n)\n",
    "    return "
   ]
  },
  {
   "cell_type": "code",
   "execution_count": 20,
   "metadata": {},
   "outputs": [
    {
     "name": "stdout",
     "output_type": "stream",
     "text": [
      "10\n",
      "3628800\n",
      "55\n",
      "1\n",
      "2\n",
      "3\n",
      "4\n",
      "5\n",
      "6\n",
      "7\n",
      "8\n",
      "9\n",
      "10\n"
     ]
    }
   ],
   "source": [
    "n = int(input())\n",
    "print(fact(n))\n",
    "print(sum_n(n))\n",
    "print1_to_n(n)"
   ]
  },
  {
   "cell_type": "code",
   "execution_count": 27,
   "metadata": {},
   "outputs": [],
   "source": [
    "\n",
    "def fib(n):\n",
    "    if n == 0:\n",
    "        return 0\n",
    "    if n == 1:\n",
    "        return 1\n",
    "    return fib(n-1) + fib(n-2)\n"
   ]
  },
  {
   "cell_type": "code",
   "execution_count": 28,
   "metadata": {},
   "outputs": [
    {
     "data": {
      "text/plain": [
       "5"
      ]
     },
     "execution_count": 28,
     "metadata": {},
     "output_type": "execute_result"
    }
   ],
   "source": [
    "fib(5)"
   ]
  },
  {
   "cell_type": "markdown",
   "metadata": {},
   "source": [
    "#### List is Sorted or not."
   ]
  },
  {
   "cell_type": "code",
   "execution_count": 2,
   "metadata": {},
   "outputs": [],
   "source": [
    "def isSorted(a):\n",
    "    l = len(a)\n",
    "    if l == 0 or l == 1:\n",
    "        return True\n",
    "    if a[0] > a[1]:\n",
    "        return False\n",
    "    \n",
    "    sublist = a[1:]\n",
    "    isSublistSorted = isSorted(sublist)\n",
    "    if isSublistSorted:\n",
    "        return True\n",
    "    else:\n",
    "        return False"
   ]
  },
  {
   "cell_type": "code",
   "execution_count": 4,
   "metadata": {},
   "outputs": [
    {
     "data": {
      "text/plain": [
       "True"
      ]
     },
     "execution_count": 4,
     "metadata": {},
     "output_type": "execute_result"
    }
   ],
   "source": [
    "isSorted([1,2,3,4,5])"
   ]
  },
  {
   "cell_type": "code",
   "execution_count": 6,
   "metadata": {},
   "outputs": [
    {
     "data": {
      "text/plain": [
       "False"
      ]
     },
     "execution_count": 6,
     "metadata": {},
     "output_type": "execute_result"
    }
   ],
   "source": [
    "isSorted([6,5,4,3,6,3,5,6,3])"
   ]
  },
  {
   "cell_type": "code",
   "execution_count": 13,
   "metadata": {},
   "outputs": [],
   "source": [
    "def isSortedBetter(a,si):\n",
    "    l = len(a)\n",
    "    if si == l-1 or si == l:\n",
    "        return True\n",
    "    if a[si] > a[si + 1]:\n",
    "        return False\n",
    "    isSublistSorted = isSortedBetter(a,si + 1)\n",
    "    return isSublistSorted"
   ]
  },
  {
   "cell_type": "code",
   "execution_count": 14,
   "metadata": {},
   "outputs": [
    {
     "data": {
      "text/plain": [
       "False"
      ]
     },
     "execution_count": 14,
     "metadata": {},
     "output_type": "execute_result"
    }
   ],
   "source": [
    "a = [1,2,3,40,5,6,7,8,9]\n",
    "isSortedBetter(a,0)"
   ]
  },
  {
   "cell_type": "code",
   "execution_count": 19,
   "metadata": {},
   "outputs": [],
   "source": [
    "def firstIndex(a,k,si):\n",
    "    l = len(a)\n",
    "    if (si == l-1 and a[si] != k ) or l == 0:\n",
    "        return -1\n",
    "    if a[si]==k :\n",
    "        return si\n",
    "    ans = firstIndex(a,k,si+1)\n",
    "    return ans\n",
    "    "
   ]
  },
  {
   "cell_type": "code",
   "execution_count": 20,
   "metadata": {},
   "outputs": [
    {
     "name": "stdout",
     "output_type": "stream",
     "text": [
      "3\n"
     ]
    }
   ],
   "source": [
    "a = [1,2,3,4,5,6]\n",
    "ans = firstIndex(a,4,0)\n",
    "print(ans)"
   ]
  },
  {
   "cell_type": "code",
   "execution_count": 23,
   "metadata": {},
   "outputs": [],
   "source": [
    "def firstIndexOther(a,k):\n",
    "    l = len(a)\n",
    "    if l == 0:\n",
    "        return -1\n",
    "    if a[0] == k:\n",
    "        return 0\n",
    "    subList = a[1:]\n",
    "    smallOutput = firstIndexOther(subList,k)\n",
    "    if smallOutput == -1:\n",
    "        return -1\n",
    "    else:\n",
    "        return smallOutput + 1\n",
    "    "
   ]
  },
  {
   "cell_type": "code",
   "execution_count": 24,
   "metadata": {},
   "outputs": [
    {
     "name": "stdout",
     "output_type": "stream",
     "text": [
      "3\n"
     ]
    }
   ],
   "source": [
    "a = [1,2,3,4,5,6]\n",
    "print(firstIndexOther(a,4))"
   ]
  },
  {
   "cell_type": "code",
   "execution_count": 41,
   "metadata": {},
   "outputs": [],
   "source": [
    "def lastIndex(a,k,si,ans):\n",
    "    l = len(a)\n",
    "    if l==0:\n",
    "        return -1\n",
    "    if si == l-1:\n",
    "        if a[si] == k:\n",
    "            return si\n",
    "        else:\n",
    "            return ans[0]\n",
    "    else:\n",
    "        if a[si] != k:\n",
    "            return lastIndex(a,k,si+1,ans)\n",
    "        else:\n",
    "            ans[0] = si\n",
    "            return lastIndex(a,k,si+1,ans)\n",
    "            \n"
   ]
  },
  {
   "cell_type": "code",
   "execution_count": 42,
   "metadata": {},
   "outputs": [
    {
     "name": "stdout",
     "output_type": "stream",
     "text": [
      "7\n"
     ]
    }
   ],
   "source": [
    "a = [1,2,3,4,5,6,7,5,6,8,6,7]\n",
    "ans = [0,]\n",
    "b= lastIndex(a,5,0,ans)\n",
    "print(b)"
   ]
  },
  {
   "cell_type": "code",
   "execution_count": 45,
   "metadata": {},
   "outputs": [],
   "source": [
    "def lastIndex(a,k,si,ans):\n",
    "    l = len(a)\n",
    "    if l==0:\n",
    "        return -1\n",
    "    if si == l-1:\n",
    "        if a[si] == k:\n",
    "            return si\n",
    "        else:\n",
    "            return ans\n",
    "    else:\n",
    "        if a[si] != k:\n",
    "            return lastIndex(a,k,si+1,ans)\n",
    "        else:\n",
    "            ans = si\n",
    "            return lastIndex(a,k,si+1,ans)\n",
    "            \n",
    "    "
   ]
  },
  {
   "cell_type": "code",
   "execution_count": 51,
   "metadata": {},
   "outputs": [
    {
     "name": "stdout",
     "output_type": "stream",
     "text": [
      "11\n"
     ]
    }
   ],
   "source": [
    "a = [1,2,3,4,5,6,7,5,6,8,6,7]\n",
    "ans = 0\n",
    "b= lastIndex(a,7,0,ans)\n",
    "print(b)"
   ]
  },
  {
   "cell_type": "code",
   "execution_count": 47,
   "metadata": {},
   "outputs": [],
   "source": [
    "def lastIndexOther(a,k):\n",
    "    l = len(a)\n",
    "    if l == 0:\n",
    "        return -1\n",
    "    if l == 1:\n",
    "        if a[0] != k:\n",
    "            return -1\n",
    "        else:\n",
    "            return 0\n",
    "        \n",
    "    ans = lastIndexOther(a[1:],k)\n",
    "    if ans != -1:\n",
    "        return ans + 1\n",
    "    else:\n",
    "        if a[0] == k:\n",
    "            return 0\n",
    "        else:\n",
    "            return -1\n",
    "        \n",
    "        \n",
    "    \n",
    "        "
   ]
  },
  {
   "cell_type": "code",
   "execution_count": 52,
   "metadata": {},
   "outputs": [
    {
     "name": "stdout",
     "output_type": "stream",
     "text": [
      "11\n"
     ]
    }
   ],
   "source": [
    "a = [1,2,3,4,5,6,7,5,6,8,6,7]\n",
    "print(lastIndexOther(a,7))"
   ]
  },
  {
   "cell_type": "code",
   "execution_count": 54,
   "metadata": {},
   "outputs": [
    {
     "name": "stdout",
     "output_type": "stream",
     "text": [
      "10\n"
     ]
    }
   ],
   "source": [
    "print(lastIndexOther(a,6))"
   ]
  },
  {
   "cell_type": "markdown",
   "metadata": {},
   "source": [
    "#### Recurrsion on Strings"
   ]
  },
  {
   "cell_type": "code",
   "execution_count": 57,
   "metadata": {},
   "outputs": [],
   "source": [
    "def replaceChar(s,char1,char2):\n",
    "    l = len(s)\n",
    "    if l == 0:\n",
    "        return \"\";\n",
    "        \n",
    "    smallOutput = replaceChar(s[1:],char1,char2)\n",
    "    if s[0] == char1:\n",
    "        return char2 + smallOutput\n",
    "    else:\n",
    "        return s[0] + smallOutput\n",
    "    \n",
    "    \n",
    "    "
   ]
  },
  {
   "cell_type": "code",
   "execution_count": 65,
   "metadata": {},
   "outputs": [
    {
     "name": "stdout",
     "output_type": "stream",
     "text": [
      "$bcd$bed\n"
     ]
    }
   ],
   "source": [
    "s = \"abcdabed\"\n",
    "print(replaceChar(s,'a','$'))"
   ]
  },
  {
   "cell_type": "markdown",
   "metadata": {},
   "source": [
    "#### change Pi to 3.14"
   ]
  },
  {
   "cell_type": "code",
   "execution_count": 66,
   "metadata": {},
   "outputs": [],
   "source": [
    "def replacePi(s):\n",
    "    l = len(s)\n",
    "    if l == 1 or l == 0:\n",
    "        return s\n",
    "    \n",
    "    if s[0:2] == \"pi\":\n",
    "        return \"3.14\" + replacePi(s[2:])\n",
    "    else:\n",
    "        return s[0] + replacePi(s[1:])\n",
    "    \n",
    "    "
   ]
  },
  {
   "cell_type": "code",
   "execution_count": 68,
   "metadata": {},
   "outputs": [
    {
     "name": "stdout",
     "output_type": "stream",
     "text": [
      "3.14dfddfh3.14ssdf3.14\n"
     ]
    }
   ],
   "source": [
    "print(replacePi(\"pidfddfhpissdfpi\"))"
   ]
  },
  {
   "cell_type": "code",
   "execution_count": 12,
   "metadata": {
    "scrolled": true
   },
   "outputs": [
    {
     "name": "stdout",
     "output_type": "stream",
     "text": [
      "[9, 10, 11, 12, 13, 6, 7, 8]\n"
     ]
    }
   ],
   "source": [
    "li = [1,2,3,4,5,6,7,8]\n",
    "b = [9,10,11,12,13]\n",
    "li[0:5] = b\n",
    "print(li)"
   ]
  },
  {
   "cell_type": "markdown",
   "metadata": {},
   "source": [
    "#### Binary Search"
   ]
  },
  {
   "cell_type": "code",
   "execution_count": 16,
   "metadata": {},
   "outputs": [],
   "source": [
    "def binarySearch(a,x,si,ei):\n",
    "    if si > ei:\n",
    "        return -1\n",
    "    mid = si+ei//2\n",
    "    if a[mid] == x:\n",
    "        return mid\n",
    "    elif a[mid] > x:\n",
    "        return binarySearch(a,x,si,mid-1)\n",
    "    else:\n",
    "        return binarySearch(a,x,mid+1,ei)"
   ]
  },
  {
   "cell_type": "code",
   "execution_count": 17,
   "metadata": {},
   "outputs": [
    {
     "data": {
      "text/plain": [
       "-1"
      ]
     },
     "execution_count": 17,
     "metadata": {},
     "output_type": "execute_result"
    }
   ],
   "source": [
    "binarySearch([1,3,5,7,9,11,13,145,16,17],2,0,9)"
   ]
  },
  {
   "cell_type": "code",
   "execution_count": 28,
   "metadata": {},
   "outputs": [
    {
     "data": {
      "text/plain": [
       "2"
      ]
     },
     "execution_count": 28,
     "metadata": {},
     "output_type": "execute_result"
    }
   ],
   "source": [
    "binarySearch([1,2,3,4,5],3,0,4)"
   ]
  },
  {
   "cell_type": "markdown",
   "metadata": {},
   "source": [
    "#### Merge Sort"
   ]
  },
  {
   "cell_type": "code",
   "execution_count": 1,
   "metadata": {},
   "outputs": [
    {
     "name": "stdout",
     "output_type": "stream",
     "text": [
      "[2, 3, 3, 3, 3, 3, 3, 3, 4, 4, 5, 5, 5, 5, 6, 23, 32, 34, 56, 234]\n"
     ]
    }
   ],
   "source": [
    "def merge(a,i1,imax,j1,jmax):\n",
    "    li = []\n",
    "    i = i1\n",
    "    j = j1\n",
    "    \n",
    "    while i <= imax and j <= jmax:\n",
    "        if a[i] < a[j]:\n",
    "            li.append(a[i])\n",
    "            i += 1\n",
    "            \n",
    "        else:\n",
    "            li.append(a[j])\n",
    "            j += 1\n",
    "            \n",
    "    while i <= imax:\n",
    "        li.append(a[i])\n",
    "        i += 1\n",
    "        \n",
    "    while j <= jmax:\n",
    "        li.append(a[j])\n",
    "        j += 1\n",
    "        \n",
    "    i = i1\n",
    "    j = 0\n",
    "    while i <= jmax:\n",
    "        a[i] = li[j]\n",
    "        i += 1\n",
    "        j += 1\n",
    "        \n",
    "        \n",
    "        \n",
    "        \n",
    "def mergeSort(a,s,e):\n",
    "    if s < e:\n",
    "        mid = (s + e)//2\n",
    "        mergeSort(a,s,mid)\n",
    "        mergeSort(a,mid+1,e)\n",
    "        merge(a,s,mid,mid+1,e)\n",
    "        \n",
    "        \n",
    "li = [2,3,4,3,5,3,5,3,5,3,32,56,23,34,6,3,4,234,5,3]\n",
    "n = len(li)\n",
    "mergeSort(li,0,n-1)\n",
    "print(li)\n",
    "        "
   ]
  },
  {
   "cell_type": "markdown",
   "metadata": {},
   "source": [
    "#### Quick Sort"
   ]
  },
  {
   "cell_type": "code",
   "execution_count": 37,
   "metadata": {},
   "outputs": [],
   "source": [
    "def partition(a,si,ei):\n",
    "    pivot = a[ei]\n",
    "    pindex = si\n",
    "    for i in range(si,ei):\n",
    "        if a[i] <= pivot:\n",
    "            a[i],a[pindex] = a[pindex],a[i]\n",
    "            pindex += 1 \n",
    "            \n",
    "    a[pindex],a[ei] = a[ei],a[pindex]\n",
    "    return pindex\n",
    "\n",
    "def QuickSort(a,si,ei):\n",
    "    if si < ei :\n",
    "        pindex = partition(a,si,ei)\n",
    "        QuickSort(a,si,pindex-1)\n",
    "        QuickSort(a,pindex+1,ei)\n",
    "        \n",
    "        "
   ]
  },
  {
   "cell_type": "code",
   "execution_count": 38,
   "metadata": {},
   "outputs": [
    {
     "name": "stdout",
     "output_type": "stream",
     "text": [
      "[3, 3, 4, 4, 4, 5, 5, 5, 5, 6, 7, 8]\n"
     ]
    }
   ],
   "source": [
    "li = [5,4,3,4,5,6,7,8,5,3,4,5]\n",
    "QuickSort(li,0,11)\n",
    "print(li)"
   ]
  },
  {
   "cell_type": "code",
   "execution_count": 49,
   "metadata": {},
   "outputs": [],
   "source": [
    "def Toh(n, A, B, C):\n",
    "    if n > 0:\n",
    "        Toh(n-1,A,C,B)\n",
    "        print(\"Move \",n,\"th disc from \",A,\"to \",C)\n",
    "        Toh(n-1,B,A,C)\n",
    "        \n",
    "        "
   ]
  },
  {
   "cell_type": "code",
   "execution_count": 50,
   "metadata": {},
   "outputs": [
    {
     "name": "stdout",
     "output_type": "stream",
     "text": [
      "4\n",
      "Move  1 th disc from  S to  H\n",
      "Move  2 th disc from  S to  D\n",
      "Move  1 th disc from  H to  D\n",
      "Move  3 th disc from  S to  H\n",
      "Move  1 th disc from  D to  S\n",
      "Move  2 th disc from  D to  H\n",
      "Move  1 th disc from  S to  H\n",
      "Move  4 th disc from  S to  D\n",
      "Move  1 th disc from  H to  D\n",
      "Move  2 th disc from  H to  S\n",
      "Move  1 th disc from  D to  S\n",
      "Move  3 th disc from  H to  D\n",
      "Move  1 th disc from  S to  H\n",
      "Move  2 th disc from  S to  D\n",
      "Move  1 th disc from  H to  D\n"
     ]
    }
   ],
   "source": [
    "n = int(input())\n",
    "Toh(n,\"S\",\"H\",\"D\")"
   ]
  }
 ],
 "metadata": {
  "kernelspec": {
   "display_name": "Python 3",
   "language": "python",
   "name": "python3"
  },
  "language_info": {
   "codemirror_mode": {
    "name": "ipython",
    "version": 3
   },
   "file_extension": ".py",
   "mimetype": "text/x-python",
   "name": "python",
   "nbconvert_exporter": "python",
   "pygments_lexer": "ipython3",
   "version": "3.8.3"
  }
 },
 "nbformat": 4,
 "nbformat_minor": 4
}
