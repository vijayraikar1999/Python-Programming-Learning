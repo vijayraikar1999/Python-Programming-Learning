{
 "cells": [
  {
   "cell_type": "code",
   "execution_count": 84,
   "metadata": {},
   "outputs": [],
   "source": [
    "class BinaryTreeNode:\n",
    "    def __init__(self,char,freq):\n",
    "            self.char = char\n",
    "            self.freq = freq\n",
    "            self.left = None\n",
    "            self.right = None\n",
    "            \n",
    "    def __lt__(self,other):\n",
    "        return self.freq < other.freq\n",
    "    \n",
    "    def __gt__(self,other):\n",
    "        return self.freq > other.freq\n",
    "    \n",
    "    def __eq__(self,other):\n",
    "        return self.freq == other.freq\n",
    "    "
   ]
  },
  {
   "cell_type": "code",
   "execution_count": 85,
   "metadata": {},
   "outputs": [],
   "source": [
    "import heapq"
   ]
  },
  {
   "cell_type": "code",
   "execution_count": 86,
   "metadata": {},
   "outputs": [],
   "source": [
    "def createHeap(st):\n",
    "    d = {}\n",
    "    for char in st:\n",
    "        d[char] = d.get(char,0) + 1\n",
    "        \n",
    "    heap = []\n",
    "    for i in d:\n",
    "        heap.append(BinaryTreeNode(i,d[i]))\n",
    "        \n",
    "    heapq.heapify(heap)\n",
    "    return heap"
   ]
  },
  {
   "cell_type": "code",
   "execution_count": 87,
   "metadata": {},
   "outputs": [],
   "source": [
    "def printCodes(root,st):\n",
    "    if root is None:\n",
    "        return\n",
    "    if root.left is None and root.right is None:\n",
    "        print(root.char,\": \",st)\n",
    "        return\n",
    "    printCodes(root.left, st + \"0\")\n",
    "    printCodes(root.right, st + \"1\")"
   ]
  },
  {
   "cell_type": "code",
   "execution_count": 88,
   "metadata": {},
   "outputs": [],
   "source": [
    "def huffmanCoding(st):\n",
    "    heap = createHeap(st)\n",
    "    while len(heap) > 1:\n",
    "        leftChild = heap[0]\n",
    "        heapq.heappop(heap)\n",
    "        rightChild = heap[0]\n",
    "        heapq.heappop(heap)\n",
    "        freq = leftChild.freq + rightChild.freq\n",
    "        char = leftChild.char + rightChild.char\n",
    "        newNode = BinaryTreeNode(char,freq)\n",
    "        newNode.left = leftChild\n",
    "        newNode.right = rightChild\n",
    "        heapq.heappush(heap,newNode)\n",
    "        \n",
    "    printCodes(heap[0],\"\")    "
   ]
  },
  {
   "cell_type": "code",
   "execution_count": 89,
   "metadata": {},
   "outputs": [
    {
     "name": "stdout",
     "output_type": "stream",
     "text": [
      "Enter the string: \n",
      "aabbaaacdccde\n",
      "d :  00\n",
      "c :  01\n",
      "e :  100\n",
      "b :  101\n",
      "a :  11\n"
     ]
    }
   ],
   "source": [
    "print(\"Enter the string: \")\n",
    "string =input()\n",
    "huffmanCoding(string)"
   ]
  },
  {
   "cell_type": "code",
   "execution_count": 90,
   "metadata": {},
   "outputs": [
    {
     "name": "stdout",
     "output_type": "stream",
     "text": [
      "c :  0\n",
      "b :  100\n",
      "d :  101\n",
      "a :  11\n"
     ]
    }
   ],
   "source": [
    "string = \"bccccccaaaaaddd\"\n",
    "huffmanCoding(string)"
   ]
  },
  {
   "cell_type": "code",
   "execution_count": 91,
   "metadata": {},
   "outputs": [],
   "source": [
    "import os"
   ]
  },
  {
   "cell_type": "code",
   "execution_count": 92,
   "metadata": {},
   "outputs": [
    {
     "name": "stdout",
     "output_type": "stream",
     "text": [
      "File Compressed\n"
     ]
    }
   ],
   "source": [
    "class HuffmanCoding:\n",
    "    def __init__(self,path):\n",
    "        self.path = path\n",
    "        self.__heap = []\n",
    "        self.__codes = {}\n",
    "        self.__reverse_Codes = {}\n",
    "    \n",
    "    def __createHeap(self,st):\n",
    "        d = {}\n",
    "        for char in st:\n",
    "            d[char] = d.get(char,0) + 1\n",
    "            \n",
    "        for i in d:\n",
    "            self.__heap.append(BinaryTreeNode(i,d[i]))\n",
    "        \n",
    "        heapq.heapify(self.__heap)\n",
    "        return\n",
    "    \n",
    "    def __createCodesHelper(self,root,st):\n",
    "        if root is None:\n",
    "            return\n",
    "        if root.left is None and root.right is None:\n",
    "            self.__codes[root.char] = st\n",
    "            self.__reverse_Codes[st] = root.char\n",
    "            return\n",
    "        self.__createCodesHelper(root.left,st + \"0\")\n",
    "        self.__createCodesHelper(root.right,st + \"1\")\n",
    "        \n",
    "    def __createCodes(self):\n",
    "        root = heapq.heappop(self.__heap)\n",
    "        self.__createCodesHelper(root,\"\")\n",
    "        return\n",
    "        \n",
    "    def __createEncodedText(self,text):\n",
    "        encodedText = \"\"\n",
    "        for char in text:\n",
    "            encodedText += self.__codes[char]\n",
    "            \n",
    "        return encodedText    \n",
    "    \n",
    "    def __getPaddedEncodedText(self,encodedText):\n",
    "        padded_amount = 8 - (len(encodedText)%8)\n",
    "        for i in range(0,padded_amount):\n",
    "            encodedText += \"0\"\n",
    "        \n",
    "        padded_info = \"{0:08b}\".format(padded_amount)\n",
    "        paddedEncodedText = padded_info + encodedText\n",
    "        \n",
    "        return paddedEncodedText\n",
    "    \n",
    "    def __getBytesList(self,paddedEncodedText):\n",
    "        li = []\n",
    "        for i in range(0,len(paddedEncodedText),8):\n",
    "            byte = paddedEncodedText[i:i+8]\n",
    "            li.append(int(byte,2))\n",
    "            \n",
    "        return li\n",
    "    \n",
    "    def __createTree(self):\n",
    "        while len(self.__heap) > 1:\n",
    "            leftChild = self.__heap[0]\n",
    "            heapq.heappop(self.__heap)\n",
    "            rightChild = self.__heap[0]\n",
    "            heapq.heappop(self.__heap)\n",
    "            freq = leftChild.freq + rightChild.freq\n",
    "            char = leftChild.char + rightChild.char\n",
    "            newNode = BinaryTreeNode(char,freq)\n",
    "            newNode.left = leftChild\n",
    "            newNode.right = rightChild\n",
    "            heapq.heappush(self.__heap,newNode)\n",
    "            \n",
    "        return self.__heap[0]    \n",
    "        \n",
    "        \n",
    "    def compress(self):\n",
    "        #get the file from the path\n",
    "        #read the file from the path\n",
    "        file_name,file_extension = os.path.splitext(self.path)\n",
    "        output_path = file_name + \".bin\"\n",
    "        \n",
    "        \n",
    "        with open(self.path,'r+') as file , open(output_path,'wb') as output:\n",
    "            text = file.read()\n",
    "            text = text.rstrip()\n",
    "            #create the heap from the file\n",
    "            self.__createHeap(text)\n",
    "\n",
    "            #create the tree from the heap\n",
    "            self.__createTree()\n",
    "    \n",
    "            #create the codes from the tree\n",
    "            self.__createCodes()\n",
    "    \n",
    "            #create the encoded text form the codes\n",
    "            encodedText = self.__createEncodedText(text)\n",
    "    \n",
    "            #create the padded coded text from encoded text\n",
    "            paddedEncodedText = self.__getPaddedEncodedText(encodedText)\n",
    "    \n",
    "            #create a binary file of padded encoded text\n",
    "            bytes_list = self.__getBytesList(paddedEncodedText)\n",
    "    \n",
    "            #return this binary file as output\n",
    "            finalBytes = bytes(bytes_list)\n",
    "            output.write(finalBytes)\n",
    "         \n",
    "        print(\"File Compressed\")\n",
    "        return output_path\n",
    "    \n",
    "    def __removePadding(self,text):\n",
    "        padded_info = text[:8]\n",
    "        extra_padding = int(padded_info,2)\n",
    "        text = text[8:]\n",
    "        text_after_padding_removed = text[:-1*extra_padding]\n",
    "        return text_after_padding_removed\n",
    "    \n",
    "    def __decodeText(self,text):\n",
    "        decoded_text = \"\"\n",
    "        curr_bits = \"\"\n",
    "        for bit in text:\n",
    "            curr_bits += bit\n",
    "            if curr_bits in self.__reverse_Codes:\n",
    "                decoded_text += self.__reverse_Codes[curr_bits]\n",
    "                curr_bits = \"\"\n",
    "                \n",
    "        return decoded_text\n",
    "                \n",
    "    def decompress(self,input_path):\n",
    "        filename,file_extension = os.path.splitext(self.path)\n",
    "        output_path = filename + \"_decompressed\" + \".txt\"\n",
    "        with open(input_path,'rb') as file , open(output_path,'w') as output:\n",
    "            bit_string = \"\"\n",
    "            byte = file.read(1)\n",
    "            while byte:\n",
    "                byte = ord(byte)\n",
    "                bits = bin(byte)[2:].rjust(8,'0')\n",
    "                bit_string += bits\n",
    "                byte = file.read(1)\n",
    "                \n",
    "            actual_text = self.__removePadding(bit_string)\n",
    "            decompressed_text = self.__decodeText(actual_text)\n",
    "            output.write(decompressed_text)\n",
    "             \n",
    "        return     \n",
    "        \n",
    "        \n",
    "path = r\"C:\\Users\\Vijay Raikar\\Desktop\\ A Python Programs\\Sample.txt\"\n",
    "h = HuffmanCoding(path)\n",
    "output_path = h.compress()\n",
    "h.decompress(output_path)\n",
    "\n"
   ]
  },
  {
   "cell_type": "code",
   "execution_count": null,
   "metadata": {},
   "outputs": [],
   "source": []
  }
 ],
 "metadata": {
  "kernelspec": {
   "display_name": "Python 3",
   "language": "python",
   "name": "python3"
  },
  "language_info": {
   "codemirror_mode": {
    "name": "ipython",
    "version": 3
   },
   "file_extension": ".py",
   "mimetype": "text/x-python",
   "name": "python",
   "nbconvert_exporter": "python",
   "pygments_lexer": "ipython3",
   "version": "3.8.3"
  }
 },
 "nbformat": 4,
 "nbformat_minor": 4
}
