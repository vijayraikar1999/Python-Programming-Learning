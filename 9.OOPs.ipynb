{
 "cells": [
  {
   "cell_type": "markdown",
   "metadata": {},
   "source": [
    "### OOPs"
   ]
  },
  {
   "cell_type": "code",
   "execution_count": 32,
   "metadata": {},
   "outputs": [
    {
     "name": "stdout",
     "output_type": "stream",
     "text": [
      "Color: red\n",
      "maxSpeed: 15\n",
      "numGears: 3\n",
      "isConvertible False\n"
     ]
    }
   ],
   "source": [
    "class Vehicle:\n",
    "    def __init__(self,color,maxSpeed):\n",
    "        self.color = color\n",
    "        self.maxSpeed = maxSpeed\n",
    "        \n",
    "class Car(Vehicle):\n",
    "    def __init__(self,color,maxSpeed,numGears,isConvertible):\n",
    "        super().__init__(color,maxSpeed)\n",
    "        self.numGears = numGears\n",
    "        self.isConvertible = isConvertible\n",
    "        \n",
    "    def printCar(self):\n",
    "        print(\"Color:\",self.color)\n",
    "        print(\"maxSpeed:\",self.maxSpeed)\n",
    "        print(\"numGears:\",self.numGears)\n",
    "        print(\"isConvertible\",self.isConvertible)\n",
    "        \n",
    "c  = Car(\"red\",15,3,False)\n",
    "c.printCar()"
   ]
  },
  {
   "cell_type": "markdown",
   "metadata": {},
   "source": [
    "#### Inheritance Private Member "
   ]
  },
  {
   "cell_type": "code",
   "execution_count": 33,
   "metadata": {},
   "outputs": [
    {
     "name": "stdout",
     "output_type": "stream",
     "text": [
      "Color: red\n",
      "maxSpeed: 15\n",
      "numGears: 3\n",
      "isConvertible False\n"
     ]
    }
   ],
   "source": [
    "class Vehicle:\n",
    "    def __init__(self,color,maxSpeed):\n",
    "        self.color = color\n",
    "        self.__maxSpeed = maxSpeed  # Private Member\n",
    "        \n",
    "    def getMaxSpeed(self):\n",
    "        return self.maxSpeed\n",
    "    \n",
    "    def setMaxSpeed(self,maxSpeed):\n",
    "        self.maxSpeed  = maxSpeed\n",
    "          \n",
    "    def print(self):\n",
    "        print(\"Color:\",self.color)\n",
    "        print(\"maxSpeed:\",self.__maxSpeed)     # Accessing private member\n",
    "        \n",
    "class Car(Vehicle):\n",
    "    def __init__(self,color,maxSpeed,numGears,isConvertible):\n",
    "        super().__init__(color,maxSpeed)  \n",
    "        self.numGears = numGears\n",
    "        self.isConvertible = isConvertible\n",
    "        \n",
    "    def printCar(self):\n",
    "        super().print()                       # Accessing private member of superclass\n",
    "        print(\"numGears:\",self.numGears)\n",
    "        print(\"isConvertible\",self.isConvertible)\n",
    "        \n",
    "c  = Car(\"red\",15,3,False)\n",
    "c.printCar()"
   ]
  },
  {
   "cell_type": "markdown",
   "metadata": {},
   "source": [
    "#### Polymorphism\n",
    "Ability to take multiple forms"
   ]
  },
  {
   "cell_type": "code",
   "execution_count": 34,
   "metadata": {},
   "outputs": [
    {
     "name": "stdout",
     "output_type": "stream",
     "text": [
      "numGears: 3\n",
      "isConvertible False\n",
      "Color: red\n",
      "maxSpeed: 18\n"
     ]
    }
   ],
   "source": [
    "class Vehicle:\n",
    "    def __init__(self,color,maxSpeed):\n",
    "        self.color = color\n",
    "        self.__maxSpeed = maxSpeed  # Private Member\n",
    "        \n",
    "    def getMaxSpeed(self):\n",
    "        return self.maxSpeed\n",
    "    \n",
    "    def setMaxSpeed(self,maxSpeed):\n",
    "        self.maxSpeed  = maxSpeed\n",
    "          \n",
    "    def print(self):\n",
    "        print(\"Color:\",self.color)\n",
    "        print(\"maxSpeed:\",self.__maxSpeed) \n",
    "        \n",
    "class Car(Vehicle):\n",
    "    def __init__(self,color,maxSpeed,numGears,isConvertible):\n",
    "        super().__init__(color,maxSpeed)  \n",
    "        self.numGears = numGears\n",
    "        self.isConvertible = isConvertible\n",
    "        \n",
    "    def print(self):\n",
    "#         super().print()                   \n",
    "        print(\"numGears:\",self.numGears)\n",
    "        print(\"isConvertible\",self.isConvertible)\n",
    "        \n",
    "c  = Car(\"red\",15,3,False)\n",
    "c.print()\n",
    "v = Vehicle(\"red\",18)\n",
    "v.print()"
   ]
  },
  {
   "cell_type": "code",
   "execution_count": 35,
   "metadata": {},
   "outputs": [
    {
     "name": "stdout",
     "output_type": "stream",
     "text": [
      "Color: red\n",
      "maxSpeed: 15\n",
      "numGears: 3\n",
      "isConvertible False\n"
     ]
    }
   ],
   "source": [
    "class Vehicle:\n",
    "    def __init__(self,color,maxSpeed):\n",
    "        self.color = color\n",
    "        self.__maxSpeed = maxSpeed  # Private Member\n",
    "        \n",
    "    def getMaxSpeed(self):\n",
    "        return self.maxSpeed\n",
    "    \n",
    "    def setMaxSpeed(self,maxSpeed):\n",
    "        self.maxSpeed  = maxSpeed\n",
    "          \n",
    "    def print(self):\n",
    "        print(\"Color:\",self.color)\n",
    "        print(\"maxSpeed:\",self.__maxSpeed) \n",
    "        \n",
    "class Car(Vehicle):\n",
    "    def __init__(self,color,maxSpeed,numGears,isConvertible):\n",
    "        super().__init__(color,maxSpeed)  \n",
    "        self.numGears = numGears\n",
    "        self.isConvertible = isConvertible\n",
    "        \n",
    "    def print(self):\n",
    "        super().print()                   \n",
    "        print(\"numGears:\",self.numGears)\n",
    "        print(\"isConvertible\",self.isConvertible)\n",
    "        \n",
    "c  = Car(\"red\",15,3,False)\n",
    "c.print()\n"
   ]
  },
  {
   "cell_type": "markdown",
   "metadata": {},
   "source": [
    "#### Object Class"
   ]
  },
  {
   "cell_type": "code",
   "execution_count": 36,
   "metadata": {},
   "outputs": [
    {
     "name": "stdout",
     "output_type": "stream",
     "text": [
      "This is a Circle class which takes radius as an argument\n",
      "10\n"
     ]
    }
   ],
   "source": [
    "class Circle(object):\n",
    "    def __init__(self,radius):\n",
    "        self.radius = radius\n",
    "        \n",
    "    def __str__(self):\n",
    "        return \"This is a Circle class which takes radius as an argument\"\n",
    "    \n",
    "c = Circle(10)\n",
    "print(c)\n",
    "print(c.radius)"
   ]
  },
  {
   "cell_type": "markdown",
   "metadata": {},
   "source": [
    "#### Multiple Inheritance"
   ]
  },
  {
   "cell_type": "code",
   "execution_count": 37,
   "metadata": {},
   "outputs": [
    {
     "name": "stdout",
     "output_type": "stream",
     "text": [
      "Print of Father called\n"
     ]
    }
   ],
   "source": [
    "class Mother:\n",
    "    def print(self):\n",
    "        print(\"Print of Mother called\")\n",
    "        \n",
    "class Father:\n",
    "    def print(self):\n",
    "        print(\"Print of Father called\")\n",
    "        \n",
    "class Child(Father,Mother):\n",
    "    def __init__(self,name):\n",
    "        self.name = name\n",
    "        \n",
    "    def printChild(self):\n",
    "        print(\"Name of Child is: \",self.name)\n",
    "        \n",
    "c = Child(\"Rohan\")\n",
    "c.print()"
   ]
  },
  {
   "cell_type": "code",
   "execution_count": 38,
   "metadata": {},
   "outputs": [
    {
     "name": "stdout",
     "output_type": "stream",
     "text": [
      "Name of Child is:  Ajay\n"
     ]
    }
   ],
   "source": [
    "class Mother:\n",
    "    def __init__(self):\n",
    "        self.name = \"Manju\"\n",
    "    def print(self):\n",
    "        print(\"Print of Mother called\")\n",
    "        \n",
    "class Father:\n",
    "    def __init__(self):\n",
    "        self.name = \"Ajay\"\n",
    "    def print(self):\n",
    "        print(\"Print of Father called\")\n",
    "        \n",
    "class Child(Father,Mother):\n",
    "    def __init__(self):\n",
    "        super().__init__()\n",
    "        \n",
    "    def printChild(self):\n",
    "        print(\"Name of Child is: \",self.name)\n",
    "        \n",
    "c = Child()\n",
    "c.printChild()"
   ]
  },
  {
   "cell_type": "markdown",
   "metadata": {},
   "source": [
    "#### Method Resolving Order"
   ]
  },
  {
   "cell_type": "code",
   "execution_count": 39,
   "metadata": {},
   "outputs": [
    {
     "name": "stdout",
     "output_type": "stream",
     "text": [
      "Name of Child is:  Ajay\n"
     ]
    }
   ],
   "source": [
    "class Mother:\n",
    "    def __init__(self):\n",
    "        self.name = \"Manju\"\n",
    "        super().__init__()\n",
    "        \n",
    "class Father:\n",
    "    def __init__(self):\n",
    "        self.name = \"Ajay\"\n",
    "    def print(self):\n",
    "        print(\"Print of Father called\")\n",
    "        \n",
    "class Child(Mother,Father):\n",
    "    def __init__(self):\n",
    "        super().__init__()\n",
    "        \n",
    "    def printChild(self):\n",
    "        print(\"Name of Child is: \",self.name)\n",
    "        \n",
    "c = Child()\n",
    "c.printChild()"
   ]
  },
  {
   "cell_type": "code",
   "execution_count": 2,
   "metadata": {},
   "outputs": [
    {
     "name": "stdout",
     "output_type": "stream",
     "text": [
      "Name of Child is:  Ajay\n"
     ]
    }
   ],
   "source": [
    "class Mother:\n",
    "    def __init__(self):\n",
    "        self.name = \"Manju\"\n",
    "        super().__init__()\n",
    "        \n",
    "class Father:\n",
    "    def __init__(self):\n",
    "        self.name = \"Ajay\"\n",
    "        super().__init__()\n",
    "        \n",
    "class Child(Mother,Father):\n",
    "    def __init__(self):\n",
    "        super().__init__()\n",
    "        \n",
    "    def printChild(self):\n",
    "        print(\"Name of Child is: \",self.name)\n",
    "        \n",
    "c = Child()\n",
    "c.printChild()"
   ]
  },
  {
   "cell_type": "markdown",
   "metadata": {},
   "source": [
    "#### Abstarct Methods:"
   ]
  },
  {
   "cell_type": "code",
   "execution_count": null,
   "metadata": {},
   "outputs": [],
   "source": []
  },
  {
   "cell_type": "markdown",
   "metadata": {},
   "source": [
    "#### Exception Handling"
   ]
  },
  {
   "cell_type": "code",
   "execution_count": 3,
   "metadata": {},
   "outputs": [
    {
     "name": "stdout",
     "output_type": "stream",
     "text": [
      "Enter the numeratorabc\n",
      "Numerator and emominator should be integers\n"
     ]
    }
   ],
   "source": [
    "try:\n",
    "    n = input(\"Enter the numerator\")\n",
    "    num = int(n)\n",
    "    m = input(\"Enter the demominator\")\n",
    "    den = int(m)\n",
    "    value = num/den\n",
    "    print(value)\n",
    "except ValueError:\n",
    "    print(\"Numerator and emominator should be integers\")\n",
    "    "
   ]
  },
  {
   "cell_type": "code",
   "execution_count": 8,
   "metadata": {},
   "outputs": [
    {
     "name": "stdout",
     "output_type": "stream",
     "text": [
      "Enter the numeratorfasdf\n",
      "Numerator and emominator should be integers and denominator should not be Zero\n",
      "Enter the numerator3\n",
      "Enter the demominator0\n",
      "Numerator and emominator should be integers and denominator should not be Zero\n",
      "Enter the numerator2\n",
      "Enter the demominator5\n",
      "0.4\n"
     ]
    }
   ],
   "source": [
    "while True:\n",
    "    try:\n",
    "        n = input(\"Enter the numerator\")\n",
    "        num = int(n)\n",
    "        m = input(\"Enter the demominator\")\n",
    "        den = int(m)\n",
    "        value = num/den\n",
    "        print(value)\n",
    "        break\n",
    "    except (ValueError,ZeroDivisionError):\n",
    "        print(\"Numerator and emominator should be integers and denominator should not be Zero\")\n",
    "    \n",
    "    "
   ]
  },
  {
   "cell_type": "code",
   "execution_count": 10,
   "metadata": {},
   "outputs": [
    {
     "name": "stdout",
     "output_type": "stream",
     "text": [
      "Enter the numerator4\n",
      "Enter the demominator0\n",
      "Numerator and emominator should be integers and denominator should not be Zero\n",
      "Enter the numerator3 \n",
      "Enter the demominator4\n",
      "Hey\n",
      "0.75\n"
     ]
    }
   ],
   "source": [
    "while True:\n",
    "    try:\n",
    "        n = input(\"Enter the numerator\")\n",
    "        num = int(n)\n",
    "        m = input(\"Enter the demominator\")\n",
    "        den = int(m)\n",
    "        if den == 0:\n",
    "            raise ZeroDivisionError\n",
    "        print(\"Hey\")    \n",
    "        value = num/den\n",
    "        print(value)\n",
    "        break\n",
    "    except (ValueError,ZeroDivisionError):\n",
    "        print(\"Numerator and emominator should be integers and denominator should not be Zero\")\n",
    "    "
   ]
  },
  {
   "cell_type": "code",
   "execution_count": 17,
   "metadata": {},
   "outputs": [
    {
     "name": "stdout",
     "output_type": "stream",
     "text": [
      "Enter the numerator4\n",
      "Enter the demominator0\n",
      "Numerator and emominator should be integers and denominator should not be Zero\n",
      "Enter the numerator4\n",
      "Enter the demominator0\n",
      "Numerator and emominator should be integers and denominator should not be Zero\n",
      "Enter the numerator3\n",
      "Enter the demominator5\n",
      "Hey\n",
      "0.6\n"
     ]
    }
   ],
   "source": [
    "class ZeroDenominatorError(ZeroDivisionError):\n",
    "    pass\n",
    "\n",
    "while True:\n",
    "    try:\n",
    "        n = input(\"Enter the numerator\")\n",
    "        num = int(n)\n",
    "        m = input(\"Enter the demominator\")\n",
    "        den = int(m)\n",
    "        if den == 0:\n",
    "            raise ZeroDenominatorError\n",
    "        print(\"Hey\")    \n",
    "        value = num/den\n",
    "        print(value)\n",
    "        break\n",
    "    except (ValueError,ZeroDivisionError):\n",
    "        print(\"Numerator and emominaator should be integers and denominator should not be Zero\")\n",
    "        \n",
    "    except ZeroDenominatorError:\n",
    "        print(\"Denominator should not be Zero\")\n",
    "\n"
   ]
  },
  {
   "cell_type": "code",
   "execution_count": 18,
   "metadata": {},
   "outputs": [
    {
     "ename": "SyntaxError",
     "evalue": "default 'except:' must be last (<ipython-input-18-c1821a709113>, line 17)",
     "output_type": "error",
     "traceback": [
      "\u001b[1;36m  File \u001b[1;32m\"<ipython-input-18-c1821a709113>\"\u001b[1;36m, line \u001b[1;32m17\u001b[0m\n\u001b[1;33m    print(\"Numerator and emominator should be integers and denominator should not be Zero\")\u001b[0m\n\u001b[1;37m    ^\u001b[0m\n\u001b[1;31mSyntaxError\u001b[0m\u001b[1;31m:\u001b[0m default 'except:' must be last\n"
     ]
    }
   ],
   "source": [
    "class ZeroDenominatorError(ZeroDivisionError):\n",
    "    pass\n",
    "\n",
    "while True:\n",
    "    try:\n",
    "        n = input(\"Enter the numerator\")\n",
    "        num = int(n)\n",
    "        m = input(\"Enter the demominator\")\n",
    "        den = int(m)\n",
    "        if den == 0:\n",
    "            raise ZeroDenominatorError\n",
    "        print(\"Hey\")    \n",
    "        value = num/den\n",
    "        print(value)\n",
    "        break\n",
    "    except (ValueError,ZeroDivisionError):\n",
    "        print(\"Numerator and emominator should be integers and denominator should not be Zero\")\n",
    "        \n",
    "    except:\n",
    "        print(\"some Exception has occured.\")\n",
    "        \n",
    "    except ZeroDenominatorError:\n",
    "        print(\"Denominator should not be Zero\")\n"
   ]
  },
  {
   "cell_type": "code",
   "execution_count": 19,
   "metadata": {},
   "outputs": [
    {
     "name": "stdout",
     "output_type": "stream",
     "text": [
      "Enter the numerator3\n",
      "Enter the demominator0\n",
      "Numerator and emominaator should be integers and denominator should not be Zero\n",
      "Enter the numerator2\n",
      "Enter the demominatorsfs\n",
      "Numerator and emominaator should be integers and denominator should not be Zero\n",
      "Enter the numerator3\n",
      "Enter the demominator5\n",
      "Hey\n",
      "0.6\n"
     ]
    }
   ],
   "source": [
    " class ZeroDenominatorError(ZeroDivisionError):\n",
    "    pass\n",
    "\n",
    "while True:\n",
    "    try:\n",
    "        n = input(\"Enter the numerator\")\n",
    "        num = int(n)\n",
    "        m = input(\"Enter the demominator\")\n",
    "        den = int(m)\n",
    "        if den == 0:\n",
    "            raise ZeroDenominatorError\n",
    "        print(\"Hey\")    \n",
    "        value = num/den\n",
    "        \n",
    "    except (ValueError,ZeroDivisionError):\n",
    "        print(\"Numerator and emominaator should be integers and denominator should not be Zero\")\n",
    "        \n",
    "    except ZeroDenominatorError:\n",
    "        print(\"Denominator should not be Zero\")\n",
    "        \n",
    "    else:\n",
    "        print(value)\n",
    "        break\n",
    "        \n",
    "        \n",
    "\n"
   ]
  },
  {
   "cell_type": "code",
   "execution_count": null,
   "metadata": {},
   "outputs": [],
   "source": []
  }
 ],
 "metadata": {
  "kernelspec": {
   "display_name": "Python 3",
   "language": "python",
   "name": "python3"
  },
  "language_info": {
   "codemirror_mode": {
    "name": "ipython",
    "version": 3
   },
   "file_extension": ".py",
   "mimetype": "text/x-python",
   "name": "python",
   "nbconvert_exporter": "python",
   "pygments_lexer": "ipython3",
   "version": "3.8.3"
  }
 },
 "nbformat": 4,
 "nbformat_minor": 4
}
