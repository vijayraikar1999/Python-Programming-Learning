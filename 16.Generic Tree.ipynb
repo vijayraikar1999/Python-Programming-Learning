{
 "cells": [
  {
   "cell_type": "code",
   "execution_count": 1,
   "metadata": {},
   "outputs": [],
   "source": [
    "class TreeNode:\n",
    "    def __init__(self,data):\n",
    "        self.data = data\n",
    "        self.children = list()\n",
    "    "
   ]
  },
  {
   "cell_type": "code",
   "execution_count": 7,
   "metadata": {},
   "outputs": [],
   "source": [
    "n1 = TreeNode(5)\n",
    "n2 = TreeNode(3)\n",
    "n3 = TreeNode(4)\n",
    "n4 = TreeNode(7)\n",
    "n5 = TreeNode(9)\n",
    "n6 = TreeNode(10)\n",
    "n7 = TreeNode(13)\n",
    "n8 = TreeNode(15)\n",
    "n9 = TreeNode(18)\n"
   ]
  },
  {
   "cell_type": "code",
   "execution_count": 8,
   "metadata": {},
   "outputs": [],
   "source": [
    "n1.children.append(n2)\n",
    "n1.children.append(n3)\n",
    "n1.children.append(n4)\n",
    "n1.children.append(n6)\n",
    "n1.children.append(n7)\n",
    "n1.children.append(n8)\n",
    "n3.children.append(n9)\n",
    "n3.children.append(n5)"
   ]
  },
  {
   "cell_type": "code",
   "execution_count": 9,
   "metadata": {},
   "outputs": [],
   "source": [
    "def printTree(root):\n",
    "    # Not a base case but an edge case\n",
    "    if root is None:\n",
    "        return\n",
    "    print(root.data)\n",
    "    for child in root.children:\n",
    "        printTree(child)"
   ]
  },
  {
   "cell_type": "code",
   "execution_count": 10,
   "metadata": {},
   "outputs": [
    {
     "name": "stdout",
     "output_type": "stream",
     "text": [
      "5\n",
      "3\n",
      "4\n",
      "18\n",
      "9\n",
      "7\n",
      "10\n",
      "13\n",
      "15\n"
     ]
    }
   ],
   "source": [
    "printTree(n1)"
   ]
  },
  {
   "cell_type": "code",
   "execution_count": 13,
   "metadata": {},
   "outputs": [],
   "source": [
    "def printTreeDetailed(root):\n",
    "    if root is None:\n",
    "        return\n",
    "    print(root.data,\":\",end = \"\")\n",
    "    for child in root.children:\n",
    "        print(child.data,\",\",end = \"\")\n",
    "    print()\n",
    "    for child in root.children:\n",
    "        printTreeDetailed(child)\n",
    "        \n",
    "        "
   ]
  },
  {
   "cell_type": "code",
   "execution_count": 14,
   "metadata": {},
   "outputs": [
    {
     "name": "stdout",
     "output_type": "stream",
     "text": [
      "5 :3 ,4 ,7 ,10 ,13 ,15 ,\n",
      "3 :\n",
      "4 :18 ,9 ,\n",
      "18 :\n",
      "9 :\n",
      "7 :\n",
      "10 :\n",
      "13 :\n",
      "15 :\n"
     ]
    }
   ],
   "source": [
    "printTreeDetailed(n1)"
   ]
  },
  {
   "cell_type": "markdown",
   "metadata": {},
   "source": [
    "#### Take Input from User"
   ]
  },
  {
   "cell_type": "code",
   "execution_count": 40,
   "metadata": {},
   "outputs": [],
   "source": [
    "def treeInput():\n",
    "    print(\"Enter root data:\")\n",
    "    rootData = input()\n",
    "    if rootData == \"None\":\n",
    "        return None\n",
    "    rootData = int(rootData)\n",
    "    root = TreeNode(rootData)\n",
    "    print(\"Enter the number of child of \",rootData)\n",
    "    numChild = int(input())\n",
    "    for i in range(numChild):\n",
    "        child = treeInput()\n",
    "        root.children.append(child)\n",
    "    return root    "
   ]
  },
  {
   "cell_type": "code",
   "execution_count": 41,
   "metadata": {},
   "outputs": [
    {
     "name": "stdout",
     "output_type": "stream",
     "text": [
      "Enter root data:\n",
      "5\n",
      "Enter the number of child of  5\n",
      "6\n",
      "Enter root data:\n",
      "3\n",
      "Enter the number of child of  3\n",
      "0\n",
      "Enter root data:\n",
      "4\n",
      "Enter the number of child of  4\n",
      "2\n",
      "Enter root data:\n",
      "18\n",
      "Enter the number of child of  18\n",
      "0\n",
      "Enter root data:\n",
      "9\n",
      "Enter the number of child of  9\n",
      "0\n",
      "Enter root data:\n",
      "7\n",
      "Enter the number of child of  7\n",
      "0\n",
      "Enter root data:\n",
      "10\n",
      "Enter the number of child of  10\n",
      "0\n",
      "Enter root data:\n",
      "13\n",
      "Enter the number of child of  13\n",
      "0\n",
      "Enter root data:\n",
      "15\n",
      "Enter the number of child of  15\n",
      "0\n"
     ]
    }
   ],
   "source": [
    "root = treeInput()"
   ]
  },
  {
   "cell_type": "code",
   "execution_count": 42,
   "metadata": {},
   "outputs": [
    {
     "name": "stdout",
     "output_type": "stream",
     "text": [
      "5 :3 ,4 ,7 ,10 ,13 ,15 ,\n",
      "3 :\n",
      "4 :18 ,9 ,\n",
      "18 :\n",
      "9 :\n",
      "7 :\n",
      "10 :\n",
      "13 :\n",
      "15 :\n"
     ]
    }
   ],
   "source": [
    "printTreeDetailed(root)"
   ]
  },
  {
   "cell_type": "markdown",
   "metadata": {},
   "source": [
    "#### Count number of Nodes in a Tree"
   ]
  },
  {
   "cell_type": "code",
   "execution_count": 35,
   "metadata": {},
   "outputs": [],
   "source": [
    "def numNodes(root):\n",
    "    if root is None:\n",
    "        return 0\n",
    "    count = 1\n",
    "    for child in root.children:\n",
    "        count += numNodes(child)\n",
    "    return count    "
   ]
  },
  {
   "cell_type": "code",
   "execution_count": 36,
   "metadata": {},
   "outputs": [
    {
     "name": "stdout",
     "output_type": "stream",
     "text": [
      "Enter root data:\n",
      "5\n",
      "Enter the number of child of  5\n",
      "6\n",
      "Enter root data:\n",
      "15\n",
      "Enter the number of child of  15\n",
      "0\n",
      "Enter root data:\n",
      "3\n",
      "Enter the number of child of  3\n",
      "0\n",
      "Enter root data:\n",
      "7\n",
      "Enter the number of child of  7\n",
      "0\n",
      "Enter root data:\n",
      "4\n",
      "Enter the number of child of  4\n",
      "2\n",
      "Enter root data:\n",
      "18\n",
      "Enter the number of child of  18\n",
      "0\n",
      "Enter root data:\n",
      "9\n",
      "Enter the number of child of  9\n",
      "0\n",
      "Enter root data:\n",
      "10\n",
      "Enter the number of child of  10\n",
      "0\n",
      "Enter root data:\n",
      "13\n",
      "Enter the number of child of  13\n",
      "0\n"
     ]
    }
   ],
   "source": [
    "root1 = treeInput()"
   ]
  },
  {
   "cell_type": "code",
   "execution_count": 38,
   "metadata": {},
   "outputs": [
    {
     "name": "stdout",
     "output_type": "stream",
     "text": [
      "5 :15 ,3 ,7 ,4 ,10 ,13 ,\n",
      "15 :\n",
      "3 :\n",
      "7 :\n",
      "4 :18 ,9 ,\n",
      "18 :\n",
      "9 :\n",
      "10 :\n",
      "13 :\n"
     ]
    }
   ],
   "source": [
    "printTreeDetailed(root1)"
   ]
  },
  {
   "cell_type": "code",
   "execution_count": 39,
   "metadata": {},
   "outputs": [
    {
     "name": "stdout",
     "output_type": "stream",
     "text": [
      "9\n"
     ]
    }
   ],
   "source": [
    "print(numNodes(root1))"
   ]
  },
  {
   "cell_type": "code",
   "execution_count": 55,
   "metadata": {},
   "outputs": [],
   "source": [
    "import queue\n",
    "def takeInputLevelWise():\n",
    "    print(\"Enter root data: \")\n",
    "    rootData = input()\n",
    "    if rootData == \"None\":\n",
    "        return None\n",
    "    q = queue.Queue()\n",
    "    root = TreeNode(int(rootData))\n",
    "    q.put(root)\n",
    "    while not q.empty():\n",
    "        curr = q.get()\n",
    "        print(\"Enter the number of childrens of\",curr.data)\n",
    "        numChildren = int(input())\n",
    "        for i in range(numChildren):\n",
    "            print(\"Enter the next children of\",curr.data)\n",
    "            childData = int(input())\n",
    "            childNode = TreeNode(childData)\n",
    "            curr.children.append(childNode)\n",
    "            q.put(childNode)\n",
    "    return root\n"
   ]
  },
  {
   "cell_type": "code",
   "execution_count": 56,
   "metadata": {},
   "outputs": [
    {
     "name": "stdout",
     "output_type": "stream",
     "text": [
      "Enter root data: \n",
      "1\n",
      "Enter the number of childrens of 1\n",
      "3\n",
      "Enter the next children of 1\n",
      "2\n",
      "Enter the next children of 1\n",
      "3\n",
      "Enter the next children of 1\n",
      "4\n",
      "Enter the number of childrens of 2\n",
      "0\n",
      "Enter the number of childrens of 3\n",
      "2\n",
      "Enter the next children of 3\n",
      "5\n",
      "Enter the next children of 3\n",
      "6\n",
      "Enter the number of childrens of 4\n",
      "0\n",
      "Enter the number of childrens of 5\n",
      "0\n",
      "Enter the number of childrens of 6\n",
      "3\n",
      "Enter the next children of 6\n",
      "7\n",
      "Enter the next children of 6\n",
      "8\n",
      "Enter the next children of 6\n",
      "9\n",
      "Enter the number of childrens of 7\n",
      "0\n",
      "Enter the number of childrens of 8\n",
      "0\n",
      "Enter the number of childrens of 9\n",
      "0\n"
     ]
    }
   ],
   "source": [
    "root2 = takeInputLevelWise()"
   ]
  },
  {
   "cell_type": "code",
   "execution_count": 57,
   "metadata": {},
   "outputs": [
    {
     "name": "stdout",
     "output_type": "stream",
     "text": [
      "1 :2 ,3 ,4 ,\n",
      "2 :\n",
      "3 :5 ,6 ,\n",
      "5 :\n",
      "6 :7 ,8 ,9 ,\n",
      "7 :\n",
      "8 :\n",
      "9 :\n",
      "4 :\n"
     ]
    }
   ],
   "source": [
    "printTreeDetailed(root2)"
   ]
  },
  {
   "cell_type": "markdown",
   "metadata": {},
   "source": [
    "#### Print LevelWise"
   ]
  },
  {
   "cell_type": "code",
   "execution_count": 61,
   "metadata": {},
   "outputs": [],
   "source": [
    "def printLevelWise(root):\n",
    "    if root is None:\n",
    "        return\n",
    "    q = queue.Queue()\n",
    "    q.put(root)\n",
    "    while not q.empty():\n",
    "        curr = q.get()\n",
    "        print(curr.data,\":\",end = \"\")\n",
    "        for i in curr.children:\n",
    "            print(i.data,\",\",end = \"\")\n",
    "            q.put(i)\n",
    "        print()    \n",
    "        \n",
    "        "
   ]
  },
  {
   "cell_type": "code",
   "execution_count": 62,
   "metadata": {},
   "outputs": [
    {
     "name": "stdout",
     "output_type": "stream",
     "text": [
      "1 :2 ,3 ,4 ,\n",
      "2 :\n",
      "3 :5 ,6 ,\n",
      "4 :\n",
      "5 :\n",
      "6 :7 ,8 ,9 ,\n",
      "7 :\n",
      "8 :\n",
      "9 :\n"
     ]
    }
   ],
   "source": [
    "printLevelWise(root2)"
   ]
  },
  {
   "cell_type": "code",
   "execution_count": null,
   "metadata": {},
   "outputs": [],
   "source": []
  }
 ],
 "metadata": {
  "kernelspec": {
   "display_name": "Python 3",
   "language": "python",
   "name": "python3"
  },
  "language_info": {
   "codemirror_mode": {
    "name": "ipython",
    "version": 3
   },
   "file_extension": ".py",
   "mimetype": "text/x-python",
   "name": "python",
   "nbconvert_exporter": "python",
   "pygments_lexer": "ipython3",
   "version": "3.8.3"
  }
 },
 "nbformat": 4,
 "nbformat_minor": 4
}
