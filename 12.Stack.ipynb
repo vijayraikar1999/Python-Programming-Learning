{
 "cells": [
  {
   "cell_type": "markdown",
   "metadata": {},
   "source": [
    "#### Stack Implementation through List"
   ]
  },
  {
   "cell_type": "code",
   "execution_count": 31,
   "metadata": {},
   "outputs": [],
   "source": [
    "class Stack:\n",
    "    def __init__(self):\n",
    "        self.__data = []\n",
    "        \n",
    "    def push(self,item):\n",
    "        self.__data.append(item)\n",
    "        \n",
    "    def pop(self):\n",
    "        if len(self.__data) == 0:\n",
    "            print(\"Stack is empty\")\n",
    "            return\n",
    "        return self.__data.pop()\n",
    "    def size(self):\n",
    "        return len(self.__data)\n",
    "    def top(self):\n",
    "        if self.size == 0:\n",
    "            print(\"Stack is empty\")\n",
    "            return\n",
    "        return self.__data[self.size() - 1]\n",
    "    def isEmpty(self):\n",
    "        return self.size() == 0\n",
    "    "
   ]
  },
  {
   "cell_type": "code",
   "execution_count": 32,
   "metadata": {},
   "outputs": [
    {
     "name": "stdout",
     "output_type": "stream",
     "text": [
      "3\n",
      "2\n",
      "1\n",
      "Stack is empty\n",
      "None\n"
     ]
    }
   ],
   "source": [
    "st = Stack()\n",
    "st.push(1)\n",
    "st.push(2)\n",
    "st.push(3)\n",
    "\n",
    "while not st.isEmpty():\n",
    "    print(st.pop())\n",
    "\n",
    "print(st.pop())    "
   ]
  },
  {
   "cell_type": "markdown",
   "metadata": {},
   "source": [
    "#### Stack Implementation through Linked List"
   ]
  },
  {
   "cell_type": "code",
   "execution_count": 1,
   "metadata": {},
   "outputs": [],
   "source": [
    "class Stk:\n",
    "    def __init__(self):\n",
    "        self.__head = None\n",
    "        self.__"
   ]
  },
  {
   "cell_type": "markdown",
   "metadata": {},
   "source": [
    "#### Inbuilt Stack"
   ]
  },
  {
   "cell_type": "code",
   "execution_count": 5,
   "metadata": {},
   "outputs": [
    {
     "name": "stdout",
     "output_type": "stream",
     "text": [
      "5\n",
      "4\n",
      "4\n",
      "[1, 2, 3]\n"
     ]
    }
   ],
   "source": [
    "s = [1,2,3]\n",
    "s.append(4)\n",
    "s.append(5)\n",
    "print(s[-1])\n",
    "s.pop()\n",
    "print(s[-1])\n",
    "print(s.pop())\n",
    "print(s)"
   ]
  },
  {
   "cell_type": "markdown",
   "metadata": {},
   "source": [
    "#### Inbuilt Queue"
   ]
  },
  {
   "cell_type": "code",
   "execution_count": 15,
   "metadata": {},
   "outputs": [
    {
     "name": "stdout",
     "output_type": "stream",
     "text": [
      "1\n",
      "2\n",
      "3\n",
      "4\n",
      "5\n",
      "True\n"
     ]
    }
   ],
   "source": [
    "import queue\n",
    "q = queue.Queue()\n",
    "q.put(1)\n",
    "q.put(2)\n",
    "q.put(3)\n",
    "q.put(4)\n",
    "q.put(5)\n",
    "while not q.empty():\n",
    "    print(q.get())\n",
    "    \n",
    "print(q.empty())    \n"
   ]
  },
  {
   "cell_type": "code",
   "execution_count": 19,
   "metadata": {},
   "outputs": [
    {
     "name": "stdout",
     "output_type": "stream",
     "text": [
      "3\n",
      "2\n",
      "1\n"
     ]
    }
   ],
   "source": [
    "q = queue.LifoQueue()\n",
    "q.put(1)\n",
    "q.put(2)\n",
    "q.put(3)\n",
    "while not q.empty():\n",
    "    print(q.get())"
   ]
  },
  {
   "cell_type": "markdown",
   "metadata": {},
   "source": [
    "##### Balanced Paranthesis"
   ]
  },
  {
   "cell_type": "code",
   "execution_count": 26,
   "metadata": {},
   "outputs": [
    {
     "name": "stdout",
     "output_type": "stream",
     "text": [
      "False\n"
     ]
    }
   ],
   "source": [
    "def checkBalancedParanthesis(st):\n",
    "    s = []\n",
    "    for i in st:\n",
    "        if(i == '(' or i == ')' or i == '[' or i == ']' or i == '{' or i == '}' ):\n",
    "            if len(s) == 0:\n",
    "                if i == ')' or i == '}' or i == ']':\n",
    "                    return False\n",
    "            elif i == '(' or i == '[' or i == '{':\n",
    "                s.append(i)\n",
    "            else:\n",
    "                if i == ']' and s[-1] == '[':\n",
    "                    s.pop()\n",
    "                elif i == '}' and s[-1] == '{':\n",
    "                    s.pop()\n",
    "                elif i == ')' and s[-1] == '(':\n",
    "                    s.pop()\n",
    "                    \n",
    "    if len(s) != 0:\n",
    "        return False\n",
    "    \n",
    "    return True\n",
    "                    \n",
    "                \n",
    "st = \"({(a+b) + (a+b)})\"\n",
    "print(checkBalancedParanthesis(st))"
   ]
  },
  {
   "cell_type": "code",
   "execution_count": 24,
   "metadata": {},
   "outputs": [
    {
     "name": "stdout",
     "output_type": "stream",
     "text": [
      "()()\n",
      "True\n"
     ]
    }
   ],
   "source": [
    "def checkBalancedParanthesis(st):\n",
    "    s = []\n",
    "    for i in st:\n",
    "        if i == '(' or i == '[' or i== '{':\n",
    "            s.append(i)\n",
    "        elif i == ')' and s[-1] == '(':\n",
    "            s.pop()\n",
    "        elif i == ']' and s[-1] == '[':\n",
    "            s.pop()\n",
    "        elif i == '}' and s[-1] == '{':\n",
    "            s.pop()\n",
    "    \n",
    "    if len(s) != 0:\n",
    "        return False\n",
    "    \n",
    "    return True\n",
    "\n",
    "st = input()\n",
    "print(checkBalancedParanthesis(st))"
   ]
  },
  {
   "cell_type": "code",
   "execution_count": null,
   "metadata": {},
   "outputs": [],
   "source": []
  }
 ],
 "metadata": {
  "kernelspec": {
   "display_name": "Python 3",
   "language": "python",
   "name": "python3"
  },
  "language_info": {
   "codemirror_mode": {
    "name": "ipython",
    "version": 3
   },
   "file_extension": ".py",
   "mimetype": "text/x-python",
   "name": "python",
   "nbconvert_exporter": "python",
   "pygments_lexer": "ipython3",
   "version": "3.8.3"
  }
 },
 "nbformat": 4,
 "nbformat_minor": 4
}
