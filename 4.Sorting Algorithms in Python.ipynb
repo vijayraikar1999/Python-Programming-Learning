{
 "cells": [
  {
   "cell_type": "markdown",
   "metadata": {},
   "source": [
    "#### Selection Sort\n",
    "\n",
    "\n",
    "        "
   ]
  },
  {
   "cell_type": "code",
   "execution_count": 8,
   "metadata": {},
   "outputs": [
    {
     "name": "stdout",
     "output_type": "stream",
     "text": [
      "[1, 2, 4, 6, 9, 11, 13, 17, 24]\n"
     ]
    }
   ],
   "source": [
    "li = [2,4,6,1,9,13,11,24,17]\n",
    "n = len(li)\n",
    "for i in range(n):\n",
    "    min = i\n",
    "    for j in range(i+1,n):\n",
    "        if(li[j] < li[min]):\n",
    "            min = j\n",
    "            \n",
    "    temp = li[i]\n",
    "    li[i] = li[min]\n",
    "    li[min] = temp\n",
    "    \n",
    "print(li)    "
   ]
  },
  {
   "cell_type": "markdown",
   "metadata": {},
   "source": [
    "#### Bubble Sort"
   ]
  },
  {
   "cell_type": "code",
   "execution_count": 10,
   "metadata": {},
   "outputs": [
    {
     "name": "stdout",
     "output_type": "stream",
     "text": [
      "[1, 2, 4, 6, 9, 11, 13, 17, 24]\n"
     ]
    }
   ],
   "source": [
    "li = [2,4,6,1,9,13,11,24,17]\n",
    "n = len(li)\n",
    "for i in range(n-1):\n",
    "    for j in range(n-i-1):\n",
    "        if li[j] > li[j+1]:\n",
    "            li[j],li[j+1] = li[j+1],li[j]\n",
    "            \n",
    "            \n",
    "print(li)\n"
   ]
  },
  {
   "cell_type": "markdown",
   "metadata": {},
   "source": [
    "#### Insertion Sort"
   ]
  },
  {
   "cell_type": "code",
   "execution_count": 28,
   "metadata": {},
   "outputs": [
    {
     "name": "stdout",
     "output_type": "stream",
     "text": [
      "[3, 3, 3, 4, 5, 5, 12, 12, 45, 234, 323, 7456]\n"
     ]
    }
   ],
   "source": [
    "li = [12,12,4,3,5,3,5,3,45,7456,234,323]\n",
    "n = len(li)\n",
    "\n",
    "for i in range(1,n):\n",
    "    temp = li[i]\n",
    "    temp1 = i\n",
    "    for j in range(i-1,-1,-1):\n",
    "        if temp < li[j]:\n",
    "            li[j+1] = li[j]\n",
    "            temp1 = j\n",
    "                \n",
    "    li[temp1] = temp        \n",
    "            \n",
    "print(li)        \n",
    "     "
   ]
  },
  {
   "cell_type": "markdown",
   "metadata": {},
   "source": [
    "#### Merge Two Sorted Array or List"
   ]
  },
  {
   "cell_type": "code",
   "execution_count": 2,
   "metadata": {},
   "outputs": [
    {
     "name": "stdout",
     "output_type": "stream",
     "text": [
      "[1, 4, 5, 7, 8, 10, 12, 13, 14, 17, 21, 15]\n"
     ]
    }
   ],
   "source": [
    "l1 = [1,5,7,10,13,14]\n",
    "l2 = [4,8,12,17,21,15]\n",
    "l3 = []\n",
    "len1 = len(l1)\n",
    "len2 = len(l2)\n",
    "imax = len1-1\n",
    "jmax = len2-1\n",
    "\n",
    "i = 0\n",
    "j = 0\n",
    "\n",
    "while i <= imax and j <= jmax:\n",
    "    if l1[i] < l2[j]:\n",
    "        l3.append(l1[i])\n",
    "        i += 1\n",
    "        \n",
    "    else:\n",
    "        l3.append(l2[j])\n",
    "        j += 1\n",
    "        \n",
    "while i <= imax:\n",
    "        l3.append(l1[i])\n",
    "        i += 1\n",
    "        \n",
    "while j <= jmax:\n",
    "        l3.append(l2[j])\n",
    "        j += 1\n",
    "        \n",
    "        \n",
    "print(l3)        \n"
   ]
  },
  {
   "cell_type": "code",
   "execution_count": null,
   "metadata": {},
   "outputs": [],
   "source": [
    " \n",
    "    "
   ]
  }
 ],
 "metadata": {
  "kernelspec": {
   "display_name": "Python 3",
   "language": "python",
   "name": "python3"
  },
  "language_info": {
   "codemirror_mode": {
    "name": "ipython",
    "version": 3
   },
   "file_extension": ".py",
   "mimetype": "text/x-python",
   "name": "python",
   "nbconvert_exporter": "python",
   "pygments_lexer": "ipython3",
   "version": "3.8.3"
  }
 },
 "nbformat": 4,
 "nbformat_minor": 4
}
