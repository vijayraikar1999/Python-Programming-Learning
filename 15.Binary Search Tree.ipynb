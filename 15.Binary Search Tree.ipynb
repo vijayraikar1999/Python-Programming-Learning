{
 "cells": [
  {
   "cell_type": "code",
   "execution_count": 95,
   "metadata": {},
   "outputs": [],
   "source": [
    "class BinaryTreeNode:\n",
    "    def __init__(self,data):\n",
    "        self.data = data\n",
    "        self.left = None\n",
    "        self.right = None"
   ]
  },
  {
   "cell_type": "code",
   "execution_count": 96,
   "metadata": {},
   "outputs": [],
   "source": [
    "def printTree(root):\n",
    "    if root is None:\n",
    "        return\n",
    "    print(root.data,end = \":\")\n",
    "    if root.left is not None:\n",
    "        print(\"L\",root.left.data,end = \",\")\n",
    "    if root.right is not None:\n",
    "        print(\"R\",root.right.data,end = \"\")\n",
    "    print()    \n",
    "    printTree(root.left)\n",
    "    printTree(root.right)\n",
    "    "
   ]
  },
  {
   "cell_type": "code",
   "execution_count": 97,
   "metadata": {},
   "outputs": [],
   "source": [
    "def printTreeLevelWise(root):\n",
    "    if root is None:\n",
    "        return None\n",
    "    q = queue.Queue()\n",
    "    q.put(root)\n",
    "    while not q.empty():\n",
    "        curr = q.get()\n",
    "        \n",
    "        print(curr.data,\":\",end = \"\")\n",
    "        if curr.left is not None:\n",
    "            print(\"L \" + str(curr.left.data) + \" , \",end = \"\")\n",
    "            q.put(curr.left)\n",
    "        if curr.right is not None:\n",
    "            print(\"R \" + str(curr.right.data) ,end = \"\")\n",
    "            q.put(curr.right)\n",
    "            \n",
    "        print()\n",
    "        "
   ]
  },
  {
   "cell_type": "code",
   "execution_count": 98,
   "metadata": {},
   "outputs": [],
   "source": [
    "def treeInput():\n",
    "    rootdata = input()\n",
    "    if rootdata == \"None\":\n",
    "        return None\n",
    "    root = BinaryTreeNode(int(rootdata))\n",
    "    leftTree = treeInput()\n",
    "    rightTree = treeInput()\n",
    "    root.left = leftTree\n",
    "    root.right = rightTree\n",
    "    return root"
   ]
  },
  {
   "cell_type": "code",
   "execution_count": 99,
   "metadata": {},
   "outputs": [],
   "source": [
    "import queue\n",
    "def takeInputLevelWise():\n",
    "    rootdata = input()\n",
    "    if rootdata == \"None\":\n",
    "        return None\n",
    "    q = queue.Queue()\n",
    "    root = BinaryTreeNode(int(rootdata))\n",
    "    curr = root\n",
    "    q.put(root)\n",
    "    while not q.empty():\n",
    "        curr = q.get()\n",
    "        left = input()\n",
    "        right = input()\n",
    "        if left != \"None\":\n",
    "            leftNode = BinaryTreeNode(int(left))\n",
    "            curr.left = leftNode\n",
    "            q.put(leftNode)\n",
    "        else:\n",
    "            curr.left = None\n",
    "            \n",
    "        if right != \"None\":\n",
    "            rightNode = BinaryTreeNode(int(right))\n",
    "            curr.right = rightNode\n",
    "            q.put(rightNode)\n",
    "        else:\n",
    "            curr.right = None\n",
    "    return root\n"
   ]
  },
  {
   "cell_type": "code",
   "execution_count": 14,
   "metadata": {},
   "outputs": [
    {
     "name": "stdout",
     "output_type": "stream",
     "text": [
      "6\n",
      "4\n",
      "12\n",
      "3\n",
      "2\n",
      "8\n",
      "14\n",
      "None\n",
      "None\n",
      "None\n",
      "None\n",
      "None\n",
      "None\n",
      "None\n",
      "None\n"
     ]
    }
   ],
   "source": [
    "root = takeInputLevelWise()"
   ]
  },
  {
   "cell_type": "code",
   "execution_count": 15,
   "metadata": {},
   "outputs": [
    {
     "name": "stdout",
     "output_type": "stream",
     "text": [
      "6:L 4,R 12\n",
      "4:L 3,R 2\n",
      "3:\n",
      "2:\n",
      "12:L 8,R 14\n",
      "8:\n",
      "14:\n"
     ]
    }
   ],
   "source": [
    "printTree(root)"
   ]
  },
  {
   "cell_type": "markdown",
   "metadata": {},
   "source": [
    "#### Search an Element in binary Search Tree"
   ]
  },
  {
   "cell_type": "code",
   "execution_count": 100,
   "metadata": {},
   "outputs": [],
   "source": [
    "def BinarySearch(root,data):\n",
    "    if root is None:\n",
    "        return False\n",
    "    if root.data == data:\n",
    "        return True\n",
    "    if data < root.data:\n",
    "        return BinarySearch(root.left,data)\n",
    "    if data > root.data:\n",
    "        return BinarySearch(root.right,data)\n",
    "    "
   ]
  },
  {
   "cell_type": "code",
   "execution_count": 17,
   "metadata": {},
   "outputs": [
    {
     "name": "stdout",
     "output_type": "stream",
     "text": [
      "True\n"
     ]
    }
   ],
   "source": [
    "print(BinarySearch(root,12))"
   ]
  },
  {
   "cell_type": "code",
   "execution_count": 18,
   "metadata": {},
   "outputs": [
    {
     "name": "stdout",
     "output_type": "stream",
     "text": [
      "False\n"
     ]
    }
   ],
   "source": [
    "print(BinarySearch(root,15))"
   ]
  },
  {
   "cell_type": "code",
   "execution_count": 19,
   "metadata": {},
   "outputs": [
    {
     "name": "stdout",
     "output_type": "stream",
     "text": [
      "True\n"
     ]
    }
   ],
   "source": [
    "print(BinarySearch(root,6))"
   ]
  },
  {
   "cell_type": "markdown",
   "metadata": {},
   "source": [
    "#### Print Elements in the range K1 and K2"
   ]
  },
  {
   "cell_type": "code",
   "execution_count": 101,
   "metadata": {},
   "outputs": [],
   "source": [
    "def printElementRangeK1K2(root,k1,k2):\n",
    "    if root is None:\n",
    "        return\n",
    "    if root.data < k1:\n",
    "        printElementRangeK1K2(root.right,k1,k2)\n",
    "    elif root.data > k2:\n",
    "        printElementRangeK1K2(root.left,k1,k2)\n",
    "    else:\n",
    "        print(root.data)\n",
    "        printElementRangeK1K2(root.left,k1,k2)\n",
    "        printElementRangeK1K2(root.right,k1,k2)\n",
    "        \n",
    "        \n",
    "        \n",
    "        \n",
    " "
   ]
  },
  {
   "cell_type": "code",
   "execution_count": 28,
   "metadata": {},
   "outputs": [
    {
     "name": "stdout",
     "output_type": "stream",
     "text": [
      "6\n",
      "12\n",
      "8\n"
     ]
    }
   ],
   "source": [
    "printElementRangeK1K2(root,6,12)"
   ]
  },
  {
   "cell_type": "code",
   "execution_count": 29,
   "metadata": {},
   "outputs": [
    {
     "name": "stdout",
     "output_type": "stream",
     "text": [
      "6:L 4,R 12\n",
      "4:L 3,R 2\n",
      "3:\n",
      "2:\n",
      "12:L 8,R 14\n",
      "8:\n",
      "14:\n"
     ]
    }
   ],
   "source": [
    "printTree(root)"
   ]
  },
  {
   "cell_type": "code",
   "execution_count": 35,
   "metadata": {},
   "outputs": [
    {
     "name": "stdout",
     "output_type": "stream",
     "text": [
      "8\n",
      "6\n",
      "12\n",
      "4\n",
      "7\n",
      "10\n",
      "13\n",
      "3\n",
      "None\n",
      "None\n",
      "None\n",
      "None\n",
      "11\n",
      "None\n",
      "None\n",
      "None\n",
      "None\n",
      "None\n",
      "None\n"
     ]
    }
   ],
   "source": [
    "root2 = takeInputLevelWise()"
   ]
  },
  {
   "cell_type": "code",
   "execution_count": 36,
   "metadata": {},
   "outputs": [
    {
     "name": "stdout",
     "output_type": "stream",
     "text": [
      "8:L 6,R 12\n",
      "6:L 4,R 7\n",
      "4:L 3,\n",
      "3:\n",
      "7:\n",
      "12:L 10,R 13\n",
      "10:R 11\n",
      "11:\n",
      "13:\n"
     ]
    }
   ],
   "source": [
    "printTree(root2)"
   ]
  },
  {
   "cell_type": "code",
   "execution_count": 37,
   "metadata": {},
   "outputs": [
    {
     "name": "stdout",
     "output_type": "stream",
     "text": [
      "8\n",
      "7\n",
      "12\n",
      "10\n",
      "11\n",
      "13\n"
     ]
    }
   ],
   "source": [
    "printElementRangeK1K2(root2,7,14)"
   ]
  },
  {
   "cell_type": "markdown",
   "metadata": {},
   "source": [
    "#### Create BST from given Sorted Array"
   ]
  },
  {
   "cell_type": "code",
   "execution_count": 102,
   "metadata": {},
   "outputs": [],
   "source": [
    "def createBSTfromArray(a):\n",
    "    if len(a) == 0:\n",
    "        return None\n",
    "    if len(a) == 1:\n",
    "        newNode = BinaryTreeNode(a[0])\n",
    "        return newNode\n",
    "    mid = (len(a)-1)//2\n",
    "    root = BinaryTreeNode(a[mid])\n",
    "    root.left = createBSTfromArray(a[0:mid])\n",
    "    root.right = createBSTfromArray(a[mid+1:])\n",
    "    return root\n"
   ]
  },
  {
   "cell_type": "code",
   "execution_count": 103,
   "metadata": {},
   "outputs": [
    {
     "name": "stdout",
     "output_type": "stream",
     "text": [
      "Enter the elements of the Array:\n",
      "1 2 3 4 5 6 7 8\n"
     ]
    }
   ],
   "source": [
    "print(\"Enter the elements of the Array:\")\n",
    "a = list(map(int,input().split()))"
   ]
  },
  {
   "cell_type": "code",
   "execution_count": 104,
   "metadata": {},
   "outputs": [],
   "source": [
    "root3 = createBSTfromArray(a)"
   ]
  },
  {
   "cell_type": "code",
   "execution_count": 105,
   "metadata": {},
   "outputs": [
    {
     "name": "stdout",
     "output_type": "stream",
     "text": [
      "4:L 2,R 6\n",
      "2:L 1,R 3\n",
      "1:\n",
      "3:\n",
      "6:L 5,R 7\n",
      "5:\n",
      "7:R 8\n",
      "8:\n"
     ]
    }
   ],
   "source": [
    "printTree(root3)"
   ]
  },
  {
   "cell_type": "markdown",
   "metadata": {},
   "source": [
    "#### Check if a given Binary Tree is BST or not"
   ]
  },
  {
   "cell_type": "code",
   "execution_count": 106,
   "metadata": {},
   "outputs": [],
   "source": [
    "def checkBST(root):\n",
    "    if root is None:\n",
    "        return True,-1000000,1000000\n",
    "    if root.left is None and root.right is None:\n",
    "        return True,root.data,root.data\n",
    "    ans1 = checkBST(root.left)\n",
    "    ans2 = checkBST(root.right)\n",
    "    ans = False\n",
    "    if (ans1[0] and ans2[0]) and (root.data > ans1[1] and root.data <= ans2[2]):\n",
    "        ans = True\n",
    "    maxValue = max(root.data,ans1[1],ans2[1])\n",
    "    minValue = min(root.data,ans1[2],ans2[2])\n",
    "    return ans,maxValue,minValue\n"
   ]
  },
  {
   "cell_type": "code",
   "execution_count": 107,
   "metadata": {},
   "outputs": [
    {
     "name": "stdout",
     "output_type": "stream",
     "text": [
      "(True, 8, 1)\n"
     ]
    }
   ],
   "source": [
    "print(checkBST(root3))"
   ]
  },
  {
   "cell_type": "code",
   "execution_count": 109,
   "metadata": {},
   "outputs": [
    {
     "name": "stdout",
     "output_type": "stream",
     "text": [
      "4\n",
      "2\n",
      "1\n",
      "None\n",
      "None\n",
      "3\n",
      "None\n",
      "None\n",
      "6\n",
      "5\n",
      "None\n",
      "9\n",
      "None\n",
      "None\n",
      "7\n",
      "None\n",
      "None\n"
     ]
    }
   ],
   "source": [
    "root5 = treeInput()"
   ]
  },
  {
   "cell_type": "code",
   "execution_count": 110,
   "metadata": {},
   "outputs": [
    {
     "data": {
      "text/plain": [
       "(False, 9, 1)"
      ]
     },
     "execution_count": 110,
     "metadata": {},
     "output_type": "execute_result"
    }
   ],
   "source": [
    "checkBST(root5)"
   ]
  },
  {
   "cell_type": "code",
   "execution_count": 111,
   "metadata": {},
   "outputs": [
    {
     "name": "stdout",
     "output_type": "stream",
     "text": [
      "4:L 2,R 6\n",
      "2:L 1,R 3\n",
      "1:\n",
      "3:\n",
      "6:L 5,R 7\n",
      "5:R 9\n",
      "9:\n",
      "7:\n"
     ]
    }
   ],
   "source": [
    "printTree(root5)"
   ]
  },
  {
   "cell_type": "markdown",
   "metadata": {},
   "source": [
    "#### Alternative Solution for checking BST"
   ]
  },
  {
   "cell_type": "code",
   "execution_count": 112,
   "metadata": {},
   "outputs": [],
   "source": [
    "def checkBST2(root,minR,maxR):\n",
    "    if root is None:\n",
    "        return True\n",
    "    flag = False\n",
    "    if root.data  > minR and root.data <= maxR:\n",
    "        flag = True\n",
    "    ans1 = checkBST2(root.left,minR,root.data-1)\n",
    "    ans2 = checkBST2(root.right,root.data,maxR)\n",
    "    return ans1 and ans2 and flag\n"
   ]
  },
  {
   "cell_type": "code",
   "execution_count": 113,
   "metadata": {},
   "outputs": [
    {
     "name": "stdout",
     "output_type": "stream",
     "text": [
      "True\n"
     ]
    }
   ],
   "source": [
    "print(checkBST2(root3,-1000000,1000000))"
   ]
  },
  {
   "cell_type": "code",
   "execution_count": 114,
   "metadata": {},
   "outputs": [
    {
     "name": "stdout",
     "output_type": "stream",
     "text": [
      "4:L 2,R 6\n",
      "2:L 1,R 3\n",
      "1:\n",
      "3:\n",
      "6:L 5,R 7\n",
      "5:\n",
      "7:R 8\n",
      "8:\n"
     ]
    }
   ],
   "source": [
    "printTree(root3)"
   ]
  },
  {
   "cell_type": "code",
   "execution_count": 115,
   "metadata": {},
   "outputs": [
    {
     "name": "stdout",
     "output_type": "stream",
     "text": [
      "False\n"
     ]
    }
   ],
   "source": [
    "print(checkBST2(root5,-1000000,1000000))"
   ]
  },
  {
   "cell_type": "code",
   "execution_count": 116,
   "metadata": {},
   "outputs": [
    {
     "name": "stdout",
     "output_type": "stream",
     "text": [
      "4:L 2,R 6\n",
      "2:L 1,R 3\n",
      "1:\n",
      "3:\n",
      "6:L 5,R 7\n",
      "5:R 9\n",
      "9:\n",
      "7:\n"
     ]
    }
   ],
   "source": [
    "printTree(root5)"
   ]
  },
  {
   "cell_type": "markdown",
   "metadata": {},
   "source": [
    "#### Root to Node Path in Binary Tree"
   ]
  },
  {
   "cell_type": "code",
   "execution_count": 117,
   "metadata": {},
   "outputs": [],
   "source": [
    "def printNodeToRoot(root,value):\n",
    "    if root is None:\n",
    "        return None\n",
    "    if root.data == value:\n",
    "        return [root.data]\n",
    "    ansL = printNodeToRoot(root.left,value)\n",
    "    if ansL is not None:\n",
    "        ansL.append(root.data)\n",
    "        return ansL\n",
    "    ansR = printNodeToRoot(root.right,value)\n",
    "    if ansR is not None:\n",
    "        ansR.append(root.data)\n",
    "        return ansR\n",
    "    return None"
   ]
  },
  {
   "cell_type": "code",
   "execution_count": 118,
   "metadata": {},
   "outputs": [
    {
     "name": "stdout",
     "output_type": "stream",
     "text": [
      "[7, 6, 4]\n"
     ]
    }
   ],
   "source": [
    "print(printNodeToRoot(root3,7))"
   ]
  },
  {
   "cell_type": "code",
   "execution_count": 119,
   "metadata": {},
   "outputs": [
    {
     "name": "stdout",
     "output_type": "stream",
     "text": [
      "None\n"
     ]
    }
   ],
   "source": [
    "print(printNodeToRoot(root3,10))"
   ]
  },
  {
   "cell_type": "code",
   "execution_count": 120,
   "metadata": {},
   "outputs": [
    {
     "name": "stdout",
     "output_type": "stream",
     "text": [
      "[7, 6, 4]\n"
     ]
    }
   ],
   "source": [
    "print(printNodeToRoot(root5,7))"
   ]
  },
  {
   "cell_type": "code",
   "execution_count": 121,
   "metadata": {},
   "outputs": [
    {
     "name": "stdout",
     "output_type": "stream",
     "text": [
      "[9, 5, 6, 4]\n"
     ]
    }
   ],
   "source": [
    "print(printNodeToRoot(root5,9))"
   ]
  },
  {
   "cell_type": "markdown",
   "metadata": {},
   "source": [
    "#### binary Search Tree Class"
   ]
  },
  {
   "cell_type": "code",
   "execution_count": 122,
   "metadata": {},
   "outputs": [],
   "source": [
    "class BST:\n",
    "    def __init__(self):\n",
    "        self.root = None\n",
    "        self.numNodes = 0\n",
    "        \n",
    "    def printTreeHelper(self,root):\n",
    "        if root is None:\n",
    "            return\n",
    "        print(root.data,end = \":\")\n",
    "        if root.left is not None:\n",
    "            print(\"L\",root.left.data,end = \",\")\n",
    "        if root.right is not None:\n",
    "            print(\"R\",root.right.data,end = \"\")\n",
    "        print()    \n",
    "        self.printTreeHelper(root.left)\n",
    "        self.printTreeHelper(root.right)\n",
    "        \n",
    "            \n",
    "    def printTree(self):\n",
    "        self.printTreeHelper(self.root)\n",
    "        \n",
    "    def isPresentHelper(self,root,data):\n",
    "        if root is None:\n",
    "            return False\n",
    "        if root.data == data:\n",
    "            return True\n",
    "        if data < root.data:\n",
    "            return self.isPresentHelper(root.left,data)\n",
    "        if data > root.data:\n",
    "            return self.isPresentHelper(root.right,data)\n",
    "            \n",
    "    def isPresent(self,data):\n",
    "        return self.isPresentHelper(self.root,data)\n",
    "        \n",
    "    def insertHelper(self,root,data):\n",
    "        if root is None:\n",
    "            return BinaryTreeNode(data)\n",
    "        if data < root.data:\n",
    "            root.left = self.insertHelper(root.left,data)\n",
    "            return root\n",
    "        else:\n",
    "            root.right = self.insertHelper(root.right,data)\n",
    "            return root\n",
    "        \n",
    "    def insert(self,data):\n",
    "        self.root = self.insertHelper(self.root,data)\n",
    "        self.numNodes += 1\n",
    "        \n",
    "    def deleteHelper(self,root,value):\n",
    "        if root is None:\n",
    "            return False,None\n",
    "        if value < root.data:\n",
    "            Deleted,root.left = self.deleteHelper(root.left,value)\n",
    "            return Deleted,root\n",
    "        elif value > root.data:\n",
    "            Deleted,root.right = self.deleteHelper(root.right,value)\n",
    "            return Deleted,root\n",
    "        else:\n",
    "            if root.left is None and root.right is None:\n",
    "                del root\n",
    "                return True,None\n",
    "            if root.left is not None and root.right is None:\n",
    "                return True,root.left\n",
    "            if root.left is None and root.right is not None:\n",
    "                return True,root.right\n",
    "            if root.left is not None and root.right is not None:\n",
    "                prev = root\n",
    "                curr = root.right\n",
    "                while curr.left is not None:\n",
    "                    prev = curr\n",
    "                    curr = curr.left\n",
    "                    \n",
    "                ans = curr.data\n",
    "                del curr\n",
    "                root.data = ans\n",
    "                prev.left = None\n",
    "                return True,root\n",
    "    def delete(self,value):\n",
    "        Deleted,self.root = self.deleteHelper(self.root,value)\n",
    "        if Deleted:\n",
    "            self.numNodes -= 1\n",
    "        return Deleted    \n",
    "    def count(self):\n",
    "        return self.numNodes\n",
    "    "
   ]
  },
  {
   "cell_type": "code",
   "execution_count": 123,
   "metadata": {},
   "outputs": [],
   "source": [
    "b = BST()"
   ]
  },
  {
   "cell_type": "code",
   "execution_count": 124,
   "metadata": {},
   "outputs": [],
   "source": [
    "b.insert(6)\n",
    "b.insert(8)\n",
    "b.insert(4)\n",
    "b.insert(3)\n",
    "b.insert(2)\n",
    "b.insert(1)\n",
    "b.insert(7)\n",
    "b.insert(9)"
   ]
  },
  {
   "cell_type": "code",
   "execution_count": 125,
   "metadata": {},
   "outputs": [
    {
     "name": "stdout",
     "output_type": "stream",
     "text": [
      "6:L 4,R 8\n",
      "4:L 3,\n",
      "3:L 2,\n",
      "2:L 1,\n",
      "1:\n",
      "8:L 7,R 9\n",
      "7:\n",
      "9:\n"
     ]
    }
   ],
   "source": [
    "b.printTree()"
   ]
  },
  {
   "cell_type": "code",
   "execution_count": 126,
   "metadata": {},
   "outputs": [
    {
     "data": {
      "text/plain": [
       "True"
      ]
     },
     "execution_count": 126,
     "metadata": {},
     "output_type": "execute_result"
    }
   ],
   "source": [
    "b.isPresent(9)\n",
    "b.delete(9)"
   ]
  },
  {
   "cell_type": "code",
   "execution_count": 127,
   "metadata": {},
   "outputs": [
    {
     "data": {
      "text/plain": [
       "False"
      ]
     },
     "execution_count": 127,
     "metadata": {},
     "output_type": "execute_result"
    }
   ],
   "source": [
    "b.isPresent(9)"
   ]
  },
  {
   "cell_type": "code",
   "execution_count": 128,
   "metadata": {},
   "outputs": [
    {
     "name": "stdout",
     "output_type": "stream",
     "text": [
      "6:L 4,R 8\n",
      "4:L 3,\n",
      "3:L 2,\n",
      "2:L 1,\n",
      "1:\n",
      "8:L 7,\n",
      "7:\n"
     ]
    }
   ],
   "source": [
    "b.printTree()"
   ]
  },
  {
   "cell_type": "code",
   "execution_count": null,
   "metadata": {},
   "outputs": [],
   "source": []
  }
 ],
 "metadata": {
  "kernelspec": {
   "display_name": "Python 3",
   "language": "python",
   "name": "python3"
  },
  "language_info": {
   "codemirror_mode": {
    "name": "ipython",
    "version": 3
   },
   "file_extension": ".py",
   "mimetype": "text/x-python",
   "name": "python",
   "nbconvert_exporter": "python",
   "pygments_lexer": "ipython3",
   "version": "3.8.3"
  }
 },
 "nbformat": 4,
 "nbformat_minor": 4
}
